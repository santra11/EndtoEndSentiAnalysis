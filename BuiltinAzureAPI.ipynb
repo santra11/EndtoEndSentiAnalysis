{
 "cells": [
  {
   "cell_type": "markdown",
   "id": "980b66f6",
   "metadata": {},
   "source": [
    "\n",
    "Compare the sentiment between Azure API and given sentiment label\n",
    "-----------------"
   ]
  },
  {
   "cell_type": "code",
   "execution_count": 1,
   "id": "10cfd7ef",
   "metadata": {},
   "outputs": [],
   "source": [
    "import pandas as pd\n",
    "import numpy as np\n",
    "from matplotlib import pyplot as plt\n",
    "%matplotlib inline\n",
    "\n",
    "import nltk\n",
    "from nltk.corpus import stopwords\n",
    "from nltk.stem import WordNetLemmatizer\n",
    "import tensorflow as tf"
   ]
  },
  {
   "cell_type": "code",
   "execution_count": 2,
   "id": "107ce019",
   "metadata": {
    "scrolled": true
   },
   "outputs": [
    {
     "name": "stdout",
     "output_type": "stream",
     "text": [
      "Azure ML SDK Version:  1.32.0\n"
     ]
    }
   ],
   "source": [
    "import azureml.core\n",
    "from azureml.core import Workspace\n",
    "from azureml.core.model import Model\n",
    "from azureml.core import Experiment\n",
    "from azureml.core.webservice import Webservice\n",
    "from azureml.core.image import ContainerImage\n",
    "from azureml.core.webservice import AciWebservice\n",
    "from azureml.core.conda_dependencies import CondaDependencies\n",
    "print(\"Azure ML SDK Version: \", azureml.core.VERSION)"
   ]
  },
  {
   "cell_type": "code",
   "execution_count": 3,
   "id": "82302a3c",
   "metadata": {},
   "outputs": [],
   "source": [
    "ws = Workspace.get(name=\"myworkspace\",\n",
    "               subscription_id='1d0c433f-f1fd-400f-abd1-7622138c35c1',\n",
    "               resource_group='MyConginitiverviceS')"
   ]
  },
  {
   "cell_type": "code",
   "execution_count": 4,
   "id": "091b81b9",
   "metadata": {
    "scrolled": false
   },
   "outputs": [
    {
     "data": {
      "text/html": [
       "<div>\n",
       "<style scoped>\n",
       "    .dataframe tbody tr th:only-of-type {\n",
       "        vertical-align: middle;\n",
       "    }\n",
       "\n",
       "    .dataframe tbody tr th {\n",
       "        vertical-align: top;\n",
       "    }\n",
       "\n",
       "    .dataframe thead th {\n",
       "        text-align: right;\n",
       "    }\n",
       "</style>\n",
       "<table border=\"1\" class=\"dataframe\">\n",
       "  <thead>\n",
       "    <tr style=\"text-align: right;\">\n",
       "      <th></th>\n",
       "      <th>sentiment_label</th>\n",
       "      <th>tweet_text</th>\n",
       "    </tr>\n",
       "  </thead>\n",
       "  <tbody>\n",
       "    <tr>\n",
       "      <th>0</th>\n",
       "      <td>0</td>\n",
       "      <td>visited my friends and had a great time!!! Tom...</td>\n",
       "    </tr>\n",
       "    <tr>\n",
       "      <th>1</th>\n",
       "      <td>0</td>\n",
       "      <td>vicar of dibley always makes me cry  love them...</td>\n",
       "    </tr>\n",
       "    <tr>\n",
       "      <th>2</th>\n",
       "      <td>0</td>\n",
       "      <td>Cleaning house and fighting fatigue</td>\n",
       "    </tr>\n",
       "    <tr>\n",
       "      <th>3</th>\n",
       "      <td>0</td>\n",
       "      <td>I can't get to sleep. I have an urge to make f...</td>\n",
       "    </tr>\n",
       "    <tr>\n",
       "      <th>4</th>\n",
       "      <td>0</td>\n",
       "      <td>HELLO ALL TWITTERS!! I've missed u. Been away ...</td>\n",
       "    </tr>\n",
       "  </tbody>\n",
       "</table>\n",
       "</div>"
      ],
      "text/plain": [
       "   sentiment_label                                         tweet_text\n",
       "0                0  visited my friends and had a great time!!! Tom...\n",
       "1                0  vicar of dibley always makes me cry  love them...\n",
       "2                0               Cleaning house and fighting fatigue \n",
       "3                0  I can't get to sleep. I have an urge to make f...\n",
       "4                0  HELLO ALL TWITTERS!! I've missed u. Been away ..."
      ]
     },
     "execution_count": 4,
     "metadata": {},
     "output_type": "execute_result"
    }
   ],
   "source": [
    "df=pd.read_csv('tweet.csv')\n",
    "df.head()"
   ]
  },
  {
   "cell_type": "code",
   "execution_count": 5,
   "id": "eb06e7ff",
   "metadata": {},
   "outputs": [
    {
     "data": {
      "text/plain": [
       "(1600, 2)"
      ]
     },
     "execution_count": 5,
     "metadata": {},
     "output_type": "execute_result"
    }
   ],
   "source": [
    "df.shape"
   ]
  },
  {
   "cell_type": "code",
   "execution_count": 6,
   "id": "cc043a38",
   "metadata": {},
   "outputs": [
    {
     "data": {
      "text/plain": [
       "0    800\n",
       "4    800\n",
       "Name: sentiment_label, dtype: int64"
      ]
     },
     "execution_count": 6,
     "metadata": {},
     "output_type": "execute_result"
    }
   ],
   "source": [
    "df['sentiment_label'].value_counts()"
   ]
  },
  {
   "cell_type": "code",
   "execution_count": 7,
   "id": "1dcf05ae",
   "metadata": {},
   "outputs": [],
   "source": [
    "df_preprocess = df.copy()"
   ]
  },
  {
   "cell_type": "code",
   "execution_count": 8,
   "id": "fe1aeb8f",
   "metadata": {
    "scrolled": false
   },
   "outputs": [
    {
     "data": {
      "text/plain": [
       "0    visited my friends and had a great time!!! Tom...\n",
       "1    vicar of dibley always makes me cry  love them...\n",
       "2                 Cleaning house and fighting fatigue \n",
       "3    I can't get to sleep. I have an urge to make f...\n",
       "4    HELLO ALL TWITTERS!! I've missed u. Been away ...\n",
       "Name: tweet_text, dtype: object"
      ]
     },
     "execution_count": 8,
     "metadata": {},
     "output_type": "execute_result"
    }
   ],
   "source": [
    "tweets = df_preprocess.tweet_text\n",
    "tweets.head()"
   ]
  },
  {
   "cell_type": "markdown",
   "id": "9056db4e",
   "metadata": {},
   "source": [
    "#### Remove Characters"
   ]
  },
  {
   "cell_type": "code",
   "execution_count": 9,
   "id": "29d33684",
   "metadata": {},
   "outputs": [
    {
     "data": {
      "text/plain": [
       "'visited my friends and had a great time!!! Tomorrow, up at 6:00 a.m.'"
      ]
     },
     "execution_count": 9,
     "metadata": {},
     "output_type": "execute_result"
    }
   ],
   "source": [
    "def removeWordWithChar(text, char_list):\n",
    "    #Remove words in a text that contains a char from the list.\n",
    "    text = text.split()\n",
    "    res = [ele for ele in text if all(ch not in ele for ch in char_list)]\n",
    "    res = ' '.join(res)\n",
    "    return res\n",
    "\n",
    "char_list = ['@', '#', 'http', 'www', '/']\n",
    "\n",
    "removeWordWithChar(tweets[0], char_list)"
   ]
  },
  {
   "cell_type": "code",
   "execution_count": 10,
   "id": "6b129d92",
   "metadata": {},
   "outputs": [],
   "source": [
    "tweets_cleaned = []\n",
    "for t in tweets:\n",
    "    tweets_cleaned.append(removeWordWithChar(t, char_list))"
   ]
  },
  {
   "cell_type": "markdown",
   "id": "352a3526",
   "metadata": {},
   "source": [
    "#### Tokenize"
   ]
  },
  {
   "cell_type": "code",
   "execution_count": 11,
   "id": "98f117e2",
   "metadata": {},
   "outputs": [],
   "source": [
    "def tokenize(texts):\n",
    "    tokenizer = nltk.RegexpTokenizer(r'\\w+')\n",
    "\n",
    "    texts_tokens = []\n",
    "    for i, val in enumerate(texts):\n",
    "        text_tokens = tokenizer.tokenize(val.lower())\n",
    "\n",
    "        for i in range(len(text_tokens) - 1, -1, -1):\n",
    "            if len(text_tokens[i]) < 4:\n",
    "                del(text_tokens[i])\n",
    "\n",
    "        texts_tokens.append(text_tokens)\n",
    "        \n",
    "    return texts_tokens"
   ]
  },
  {
   "cell_type": "code",
   "execution_count": 12,
   "id": "fd8ef7f1",
   "metadata": {},
   "outputs": [],
   "source": [
    "tweets_tokens = tokenize(tweets_cleaned)"
   ]
  },
  {
   "cell_type": "markdown",
   "id": "69170a35",
   "metadata": {},
   "source": [
    "#### Remove Stopword"
   ]
  },
  {
   "cell_type": "code",
   "execution_count": 13,
   "id": "ed44e5b5",
   "metadata": {},
   "outputs": [],
   "source": [
    "def removeSW(texts_tokens):\n",
    "    stopWords = set(stopwords.words('english'))\n",
    "    texts_filtered = []\n",
    "\n",
    "    for i, val in enumerate(texts_tokens):\n",
    "        text_filtered = []\n",
    "        for w in val:\n",
    "            if w not in stopWords:\n",
    "                text_filtered.append(w)\n",
    "        texts_filtered.append(text_filtered)\n",
    "        \n",
    "    return texts_filtered"
   ]
  },
  {
   "cell_type": "code",
   "execution_count": 14,
   "id": "cd8fb8e8",
   "metadata": {},
   "outputs": [],
   "source": [
    "tweets_filtered = removeSW(tweets_tokens)"
   ]
  },
  {
   "cell_type": "markdown",
   "id": "ad9782a6",
   "metadata": {},
   "source": [
    "#### Lemmatisation"
   ]
  },
  {
   "cell_type": "code",
   "execution_count": 15,
   "id": "9da9f3bc",
   "metadata": {},
   "outputs": [],
   "source": [
    "def lemma(texts_filtered):\n",
    "    wordnet_lemmatizer = WordNetLemmatizer()\n",
    "    texts_lem = []\n",
    "\n",
    "    for i, val in enumerate(texts_filtered):\n",
    "        text_lem = []\n",
    "        for word in val:\n",
    "            text_lem.append(wordnet_lemmatizer.lemmatize(word))\n",
    "        texts_lem.append(text_lem)\n",
    "    \n",
    "    return texts_lem"
   ]
  },
  {
   "cell_type": "code",
   "execution_count": 16,
   "id": "db67153d",
   "metadata": {},
   "outputs": [],
   "source": [
    "tweets_lem = lemma(tweets_filtered)"
   ]
  },
  {
   "cell_type": "code",
   "execution_count": 17,
   "id": "d01d1a4c",
   "metadata": {},
   "outputs": [],
   "source": [
    "tweets_ready = []\n",
    "for tweet in tweets_lem:\n",
    "    string = ' '\n",
    "    string = string.join(tweet)\n",
    "    tweets_ready.append(string)"
   ]
  },
  {
   "cell_type": "code",
   "execution_count": 18,
   "id": "737e8e82",
   "metadata": {},
   "outputs": [],
   "source": [
    "df_preprocess['tweet'] = tweets_ready\n",
    "df_preprocess['sentiment_label'] = df.sentiment_label.replace(4, 1)"
   ]
  },
  {
   "cell_type": "code",
   "execution_count": 19,
   "id": "92545d6c",
   "metadata": {},
   "outputs": [],
   "source": [
    "df_preprocess= df_preprocess[['sentiment_label', 'tweet']]"
   ]
  },
  {
   "cell_type": "code",
   "execution_count": 20,
   "id": "f5ba2b92",
   "metadata": {
    "scrolled": true
   },
   "outputs": [
    {
     "data": {
      "text/html": [
       "<div>\n",
       "<style scoped>\n",
       "    .dataframe tbody tr th:only-of-type {\n",
       "        vertical-align: middle;\n",
       "    }\n",
       "\n",
       "    .dataframe tbody tr th {\n",
       "        vertical-align: top;\n",
       "    }\n",
       "\n",
       "    .dataframe thead th {\n",
       "        text-align: right;\n",
       "    }\n",
       "</style>\n",
       "<table border=\"1\" class=\"dataframe\">\n",
       "  <thead>\n",
       "    <tr style=\"text-align: right;\">\n",
       "      <th></th>\n",
       "      <th>sentiment_label</th>\n",
       "      <th>tweet</th>\n",
       "    </tr>\n",
       "  </thead>\n",
       "  <tbody>\n",
       "    <tr>\n",
       "      <th>0</th>\n",
       "      <td>0</td>\n",
       "      <td>visited friend great time tomorrow</td>\n",
       "    </tr>\n",
       "    <tr>\n",
       "      <th>1</th>\n",
       "      <td>0</td>\n",
       "      <td>vicar dibley always make love bit</td>\n",
       "    </tr>\n",
       "    <tr>\n",
       "      <th>2</th>\n",
       "      <td>0</td>\n",
       "      <td>cleaning house fighting fatigue</td>\n",
       "    </tr>\n",
       "    <tr>\n",
       "      <th>3</th>\n",
       "      <td>0</td>\n",
       "      <td>sleep urge make friendship bracelet</td>\n",
       "    </tr>\n",
       "    <tr>\n",
       "      <th>4</th>\n",
       "      <td>0</td>\n",
       "      <td>hello twitter missed away long much better tho...</td>\n",
       "    </tr>\n",
       "  </tbody>\n",
       "</table>\n",
       "</div>"
      ],
      "text/plain": [
       "   sentiment_label                                              tweet\n",
       "0                0                 visited friend great time tomorrow\n",
       "1                0                  vicar dibley always make love bit\n",
       "2                0                    cleaning house fighting fatigue\n",
       "3                0                sleep urge make friendship bracelet\n",
       "4                0  hello twitter missed away long much better tho..."
      ]
     },
     "execution_count": 20,
     "metadata": {},
     "output_type": "execute_result"
    }
   ],
   "source": [
    "df_preprocess.head()"
   ]
  },
  {
   "cell_type": "markdown",
   "id": "cb3b7b31",
   "metadata": {},
   "source": [
    "#### Testing with inbuilt API of Azure."
   ]
  },
  {
   "cell_type": "code",
   "execution_count": 21,
   "id": "f8b0a987",
   "metadata": {},
   "outputs": [],
   "source": [
    "import environ\n",
    "import os\n",
    "import requests\n",
    "import json\n",
    "import pandas as pd"
   ]
  },
  {
   "cell_type": "code",
   "execution_count": 22,
   "id": "7e0e0265",
   "metadata": {},
   "outputs": [],
   "source": [
    "from os import getenv\n",
    "from azure.ai.textanalytics import TextAnalyticsClient\n",
    "from azure.core.credentials import AzureKeyCredential"
   ]
  },
  {
   "cell_type": "code",
   "execution_count": 23,
   "id": "02995908",
   "metadata": {},
   "outputs": [],
   "source": [
    "key = getenv('API_KEY')"
   ]
  },
  {
   "cell_type": "code",
   "execution_count": 24,
   "id": "0f67a00b",
   "metadata": {},
   "outputs": [],
   "source": [
    "def authenticate_client():\n",
    "    ta_credential = AzureKeyCredential(key)\n",
    "    text_analytics_client = TextAnalyticsClient(endpoint=\"https://mytextanalytics.cognitiveservices.azure.com\", credential=ta_credential)\n",
    "    return text_analytics_client\n",
    "\n",
    "client = authenticate_client() "
   ]
  },
  {
   "cell_type": "code",
   "execution_count": 25,
   "id": "a6de290a",
   "metadata": {},
   "outputs": [],
   "source": [
    "X1=df_preprocess[df_preprocess['sentiment_label'] == 1][0:5]  "
   ]
  },
  {
   "cell_type": "code",
   "execution_count": 26,
   "id": "129ea0e0",
   "metadata": {
    "scrolled": true
   },
   "outputs": [],
   "source": [
    "X2=df_preprocess[df_preprocess['sentiment_label'] == 0][0:5]  "
   ]
  },
  {
   "cell_type": "code",
   "execution_count": 27,
   "id": "b5888605",
   "metadata": {},
   "outputs": [],
   "source": [
    "frames = [X1, X2]\n",
    "X = pd.concat(frames)"
   ]
  },
  {
   "cell_type": "code",
   "execution_count": 28,
   "id": "b3070846",
   "metadata": {},
   "outputs": [],
   "source": [
    "X=X.reset_index(drop=True)"
   ]
  },
  {
   "cell_type": "code",
   "execution_count": 80,
   "id": "36cf4346",
   "metadata": {},
   "outputs": [],
   "source": [
    "nlp_azure_cognitive = X"
   ]
  },
  {
   "cell_type": "markdown",
   "id": "963f7854",
   "metadata": {},
   "source": [
    "### Let us test the sentiment  with respect to Azure for a simple sentence"
   ]
  },
  {
   "cell_type": "code",
   "execution_count": 81,
   "id": "10456dee",
   "metadata": {},
   "outputs": [],
   "source": [
    "sentence = 'Hello, my name is Ken and i like chocolate!'\n",
    "\n",
    "res = client.analyze_sentiment(documents=[sentence])"
   ]
  },
  {
   "cell_type": "code",
   "execution_count": 82,
   "id": "ea18f5f6",
   "metadata": {},
   "outputs": [
    {
     "name": "stdout",
     "output_type": "stream",
     "text": [
      "Scores : {'positive': 0.08, 'neutral': 0.92, 'negative': 0.0}\n"
     ]
    }
   ],
   "source": [
    "print('Scores : {}'.format(res[0].confidence_scores))"
   ]
  },
  {
   "cell_type": "code",
   "execution_count": 83,
   "id": "c7adb4bd",
   "metadata": {},
   "outputs": [
    {
     "name": "stdout",
     "output_type": "stream",
     "text": [
      "Sentiment associated : neutral\n"
     ]
    }
   ],
   "source": [
    "print('Sentiment associated : {}'.format(res[0].sentiment))"
   ]
  },
  {
   "cell_type": "markdown",
   "id": "8596c10d",
   "metadata": {},
   "source": [
    "### Compare the output of 'sentiment_label' with azure predicted label"
   ]
  },
  {
   "cell_type": "code",
   "execution_count": 84,
   "id": "8ad8c2c8",
   "metadata": {},
   "outputs": [],
   "source": [
    "def get_sentiment(client, sentence):\n",
    "    res = client.analyze_sentiment(documents=[sentence])\n",
    "    return 0 if res[0].confidence_scores.negative > res[0].confidence_scores.positive else 1\n",
    "\n",
    "nlp_azure_cognitive['azure_prediction'] = nlp_azure_cognitive.apply(lambda x: get_sentiment(client, x.tweet), axis=1)"
   ]
  },
  {
   "cell_type": "code",
   "execution_count": 85,
   "id": "333acb2c",
   "metadata": {
    "scrolled": true
   },
   "outputs": [
    {
     "data": {
      "text/html": [
       "<div>\n",
       "<style scoped>\n",
       "    .dataframe tbody tr th:only-of-type {\n",
       "        vertical-align: middle;\n",
       "    }\n",
       "\n",
       "    .dataframe tbody tr th {\n",
       "        vertical-align: top;\n",
       "    }\n",
       "\n",
       "    .dataframe thead th {\n",
       "        text-align: right;\n",
       "    }\n",
       "</style>\n",
       "<table border=\"1\" class=\"dataframe\">\n",
       "  <thead>\n",
       "    <tr style=\"text-align: right;\">\n",
       "      <th></th>\n",
       "      <th>sentiment_label</th>\n",
       "      <th>tweet</th>\n",
       "      <th>azure_prediction</th>\n",
       "    </tr>\n",
       "  </thead>\n",
       "  <tbody>\n",
       "    <tr>\n",
       "      <th>0</th>\n",
       "      <td>1</td>\n",
       "      <td>nice much rain</td>\n",
       "      <td>1</td>\n",
       "    </tr>\n",
       "    <tr>\n",
       "      <th>1</th>\n",
       "      <td>1</td>\n",
       "      <td>vote opinion susan boyle</td>\n",
       "      <td>1</td>\n",
       "    </tr>\n",
       "    <tr>\n",
       "      <th>2</th>\n",
       "      <td>1</td>\n",
       "      <td>slip wanting icon change next name</td>\n",
       "      <td>0</td>\n",
       "    </tr>\n",
       "    <tr>\n",
       "      <th>3</th>\n",
       "      <td>1</td>\n",
       "      <td>sent friend request</td>\n",
       "      <td>1</td>\n",
       "    </tr>\n",
       "    <tr>\n",
       "      <th>4</th>\n",
       "      <td>1</td>\n",
       "      <td>night museum movie pretty good</td>\n",
       "      <td>1</td>\n",
       "    </tr>\n",
       "    <tr>\n",
       "      <th>5</th>\n",
       "      <td>0</td>\n",
       "      <td>visited friend great time tomorrow</td>\n",
       "      <td>1</td>\n",
       "    </tr>\n",
       "    <tr>\n",
       "      <th>6</th>\n",
       "      <td>0</td>\n",
       "      <td>vicar dibley always make love bit</td>\n",
       "      <td>1</td>\n",
       "    </tr>\n",
       "    <tr>\n",
       "      <th>7</th>\n",
       "      <td>0</td>\n",
       "      <td>cleaning house fighting fatigue</td>\n",
       "      <td>0</td>\n",
       "    </tr>\n",
       "    <tr>\n",
       "      <th>8</th>\n",
       "      <td>0</td>\n",
       "      <td>sleep urge make friendship bracelet</td>\n",
       "      <td>1</td>\n",
       "    </tr>\n",
       "    <tr>\n",
       "      <th>9</th>\n",
       "      <td>0</td>\n",
       "      <td>hello twitter missed away long much better tho...</td>\n",
       "      <td>0</td>\n",
       "    </tr>\n",
       "  </tbody>\n",
       "</table>\n",
       "</div>"
      ],
      "text/plain": [
       "   sentiment_label                                              tweet  \\\n",
       "0                1                                     nice much rain   \n",
       "1                1                           vote opinion susan boyle   \n",
       "2                1                 slip wanting icon change next name   \n",
       "3                1                                sent friend request   \n",
       "4                1                     night museum movie pretty good   \n",
       "5                0                 visited friend great time tomorrow   \n",
       "6                0                  vicar dibley always make love bit   \n",
       "7                0                    cleaning house fighting fatigue   \n",
       "8                0                sleep urge make friendship bracelet   \n",
       "9                0  hello twitter missed away long much better tho...   \n",
       "\n",
       "   azure_prediction  \n",
       "0                 1  \n",
       "1                 1  \n",
       "2                 0  \n",
       "3                 1  \n",
       "4                 1  \n",
       "5                 1  \n",
       "6                 1  \n",
       "7                 0  \n",
       "8                 1  \n",
       "9                 0  "
      ]
     },
     "execution_count": 85,
     "metadata": {},
     "output_type": "execute_result"
    }
   ],
   "source": [
    "nlp_azure_cognitive"
   ]
  },
  {
   "cell_type": "code",
   "execution_count": 86,
   "id": "31e72e43",
   "metadata": {},
   "outputs": [
    {
     "name": "stdout",
     "output_type": "stream",
     "text": [
      "Accuracy : 60.0 %\n"
     ]
    }
   ],
   "source": [
    "Total = nlp_azure_cognitive.shape[0]\n",
    "Total_Error = nlp_azure_cognitive[nlp_azure_cognitive['azure_prediction'] != nlp_azure_cognitive['sentiment_label']].shape[0]\n",
    "\n",
    "Percent =   100 - Total_Error * 100 / Total\n",
    "\n",
    "print('Accuracy : {} %'.format(Percent))"
   ]
  },
  {
   "cell_type": "markdown",
   "id": "cb16ff35",
   "metadata": {},
   "source": [
    "#### As a result we see the accuracy for the Azure built in API is 60 percent."
   ]
  },
  {
   "cell_type": "code",
   "execution_count": null,
   "id": "4db76eae",
   "metadata": {},
   "outputs": [],
   "source": []
  }
 ],
 "metadata": {
  "kernelspec": {
   "display_name": "Python 3 (ipykernel)",
   "language": "python",
   "name": "python3"
  },
  "language_info": {
   "codemirror_mode": {
    "name": "ipython",
    "version": 3
   },
   "file_extension": ".py",
   "mimetype": "text/x-python",
   "name": "python",
   "nbconvert_exporter": "python",
   "pygments_lexer": "ipython3",
   "version": "3.8.1"
  }
 },
 "nbformat": 4,
 "nbformat_minor": 5
}
