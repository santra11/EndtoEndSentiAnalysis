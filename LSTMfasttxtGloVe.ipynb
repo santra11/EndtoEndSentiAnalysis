{
 "cells": [
  {
   "cell_type": "markdown",
   "id": "db080d9a",
   "metadata": {},
   "source": [
    "Deep Learning (FastText/Glove)\n",
    "-----------------"
   ]
  },
  {
   "cell_type": "code",
   "execution_count": 1,
   "id": "1a388cbd",
   "metadata": {
    "scrolled": false
   },
   "outputs": [],
   "source": [
    "import pandas as pd\n",
    "import numpy as np\n",
    "from matplotlib import pyplot as plt\n",
    "%matplotlib inline\n",
    "\n",
    "import nltk\n",
    "from nltk.corpus import stopwords\n",
    "from nltk.stem import WordNetLemmatizer\n",
    "import sklearn\n",
    "from sklearn.model_selection import train_test_split\n",
    "from tensorflow import keras\n",
    "from gensim.models.fasttext import FastText\n",
    "\n",
    "from tensorflow.keras import layers\n",
    "from keras.preprocessing.sequence import pad_sequences\n",
    "from keras.preprocessing.text import Tokenizer\n",
    "from tensorflow.keras.models import Sequential\n",
    "from keras.layers.embeddings import Embedding\n",
    "from tensorflow.keras.layers import Conv1D, Bidirectional, LSTM, Dense, Input, Dropout, MaxPooling1D, SpatialDropout1D, GlobalMaxPooling1D\n",
    "from tensorflow.keras.optimizers import Adam\n",
    "from tensorflow.keras.callbacks import ReduceLROnPlateau, EarlyStopping\n",
    "import tensorflow as tf\n",
    "import codecs\n",
    "from tqdm import tqdm"
   ]
  },
  {
   "cell_type": "markdown",
   "id": "7bf25692",
   "metadata": {},
   "source": [
    "### Create a balanced dataset by stratifying the dataset 'https://www.kaggle.com/datasets/kazanova/sentiment140'"
   ]
  },
  {
   "cell_type": "code",
   "execution_count": 2,
   "id": "54e7770f",
   "metadata": {},
   "outputs": [
    {
     "data": {
      "text/html": [
       "<div>\n",
       "<style scoped>\n",
       "    .dataframe tbody tr th:only-of-type {\n",
       "        vertical-align: middle;\n",
       "    }\n",
       "\n",
       "    .dataframe tbody tr th {\n",
       "        vertical-align: top;\n",
       "    }\n",
       "\n",
       "    .dataframe thead th {\n",
       "        text-align: right;\n",
       "    }\n",
       "</style>\n",
       "<table border=\"1\" class=\"dataframe\">\n",
       "  <thead>\n",
       "    <tr style=\"text-align: right;\">\n",
       "      <th></th>\n",
       "      <th>sentiment_label</th>\n",
       "      <th>tweet_text</th>\n",
       "    </tr>\n",
       "  </thead>\n",
       "  <tbody>\n",
       "    <tr>\n",
       "      <th>0</th>\n",
       "      <td>0</td>\n",
       "      <td>visited my friends and had a great time!!! Tom...</td>\n",
       "    </tr>\n",
       "    <tr>\n",
       "      <th>1</th>\n",
       "      <td>0</td>\n",
       "      <td>vicar of dibley always makes me cry  love them...</td>\n",
       "    </tr>\n",
       "  </tbody>\n",
       "</table>\n",
       "</div>"
      ],
      "text/plain": [
       "   sentiment_label                                         tweet_text\n",
       "0                0  visited my friends and had a great time!!! Tom...\n",
       "1                0  vicar of dibley always makes me cry  love them..."
      ]
     },
     "execution_count": 2,
     "metadata": {},
     "output_type": "execute_result"
    }
   ],
   "source": [
    "df=pd.read_csv('tweet.csv')\n",
    "df.head(2)"
   ]
  },
  {
   "cell_type": "code",
   "execution_count": 3,
   "id": "732dc737",
   "metadata": {
    "scrolled": true
   },
   "outputs": [
    {
     "data": {
      "text/plain": [
       "(1600, 2)"
      ]
     },
     "execution_count": 3,
     "metadata": {},
     "output_type": "execute_result"
    }
   ],
   "source": [
    "df.shape"
   ]
  },
  {
   "cell_type": "code",
   "execution_count": 4,
   "id": "526f3f49",
   "metadata": {},
   "outputs": [],
   "source": [
    "df['sentiment_label'] = df.sentiment_label.replace(4, 1)"
   ]
  },
  {
   "cell_type": "code",
   "execution_count": 5,
   "id": "c45f25fc",
   "metadata": {
    "scrolled": true
   },
   "outputs": [
    {
     "data": {
      "text/plain": [
       "0    800\n",
       "1    800\n",
       "Name: sentiment_label, dtype: int64"
      ]
     },
     "execution_count": 5,
     "metadata": {},
     "output_type": "execute_result"
    }
   ],
   "source": [
    "df['sentiment_label'].value_counts()"
   ]
  },
  {
   "cell_type": "markdown",
   "id": "6b4fb1ed",
   "metadata": {},
   "source": [
    "#### The dataset is balanced"
   ]
  },
  {
   "cell_type": "code",
   "execution_count": 6,
   "id": "b30521a6",
   "metadata": {},
   "outputs": [],
   "source": [
    "df_preprocess = df.copy()"
   ]
  },
  {
   "cell_type": "markdown",
   "id": "e246818c",
   "metadata": {},
   "source": [
    "#### Preprocess the text"
   ]
  },
  {
   "cell_type": "code",
   "execution_count": 7,
   "id": "b1dd12f4",
   "metadata": {
    "scrolled": true
   },
   "outputs": [
    {
     "data": {
      "text/plain": [
       "0    visited my friends and had a great time!!! Tom...\n",
       "1    vicar of dibley always makes me cry  love them...\n",
       "2                 Cleaning house and fighting fatigue \n",
       "3    I can't get to sleep. I have an urge to make f...\n",
       "4    HELLO ALL TWITTERS!! I've missed u. Been away ...\n",
       "Name: tweet_text, dtype: object"
      ]
     },
     "execution_count": 7,
     "metadata": {},
     "output_type": "execute_result"
    }
   ],
   "source": [
    "tweets = df_preprocess.tweet_text\n",
    "tweets.head()"
   ]
  },
  {
   "cell_type": "code",
   "execution_count": 8,
   "id": "8a94c46a",
   "metadata": {},
   "outputs": [
    {
     "data": {
      "text/plain": [
       "'visited my friends and had a great time!!! Tomorrow, up at 6:00 a.m.'"
      ]
     },
     "execution_count": 8,
     "metadata": {},
     "output_type": "execute_result"
    }
   ],
   "source": [
    "def removeWordWithChar(text, char_list):\n",
    "    #Remove words in a text that contains a char from the list.\n",
    "    text = text.split()\n",
    "    res = [ele for ele in text if all(ch not in ele for ch in char_list)]\n",
    "    res = ' '.join(res)\n",
    "    return res\n",
    "\n",
    "char_list = ['@', '#', 'http', 'www', '/']\n",
    "\n",
    "removeWordWithChar(tweets[0], char_list)"
   ]
  },
  {
   "cell_type": "code",
   "execution_count": 9,
   "id": "32a0daa9",
   "metadata": {},
   "outputs": [],
   "source": [
    "tweets_cleaned = []\n",
    "for t in tweets:\n",
    "    tweets_cleaned.append(removeWordWithChar(t, char_list))"
   ]
  },
  {
   "cell_type": "code",
   "execution_count": 10,
   "id": "d1ecea03",
   "metadata": {},
   "outputs": [],
   "source": [
    "def tokenize(texts):\n",
    "    tokenizer = nltk.RegexpTokenizer(r'\\w+')\n",
    "\n",
    "    texts_tokens = []\n",
    "    for i, val in enumerate(texts):\n",
    "        text_tokens = tokenizer.tokenize(val.lower())\n",
    "\n",
    "        for i in range(len(text_tokens) - 1, -1, -1):\n",
    "            if len(text_tokens[i]) < 4:\n",
    "                del(text_tokens[i])\n",
    "\n",
    "        texts_tokens.append(text_tokens)\n",
    "        \n",
    "    return texts_tokens"
   ]
  },
  {
   "cell_type": "code",
   "execution_count": 11,
   "id": "a76c349a",
   "metadata": {},
   "outputs": [],
   "source": [
    "tweets_tokens = tokenize(tweets_cleaned)"
   ]
  },
  {
   "cell_type": "code",
   "execution_count": 12,
   "id": "a4d51e6a",
   "metadata": {},
   "outputs": [],
   "source": [
    "def removeSW(texts_tokens):\n",
    "    stopWords = set(stopwords.words('english'))\n",
    "    texts_filtered = []\n",
    "\n",
    "    for i, val in enumerate(texts_tokens):\n",
    "        text_filtered = []\n",
    "        for w in val:\n",
    "            if w not in stopWords:\n",
    "                text_filtered.append(w)\n",
    "        texts_filtered.append(text_filtered)\n",
    "        \n",
    "    return texts_filtered"
   ]
  },
  {
   "cell_type": "code",
   "execution_count": 13,
   "id": "84e3e42b",
   "metadata": {},
   "outputs": [],
   "source": [
    "tweets_filtered = removeSW(tweets_tokens)"
   ]
  },
  {
   "cell_type": "markdown",
   "id": "e83019fa",
   "metadata": {},
   "source": [
    "#### Stemming et Lemmatisation"
   ]
  },
  {
   "cell_type": "code",
   "execution_count": 14,
   "id": "2723eb0e",
   "metadata": {},
   "outputs": [],
   "source": [
    "from nltk.stem import PorterStemmer\n",
    "def stem(texts_filtered):\n",
    "    stemmer=PorterStemmer()\n",
    "    texts_stem = []\n",
    "\n",
    "    for i, val in enumerate(texts_filtered):\n",
    "        text_stem = []\n",
    "        for word in val:\n",
    "            text_stem.append(stemmer.stem(word))\n",
    "        texts_stem.append(text_stem)\n",
    "    return texts_stem"
   ]
  },
  {
   "cell_type": "code",
   "execution_count": 15,
   "id": "12c1d98a",
   "metadata": {},
   "outputs": [],
   "source": [
    "tweets_stem = stem(tweets_filtered)"
   ]
  },
  {
   "cell_type": "code",
   "execution_count": 16,
   "id": "5c64138b",
   "metadata": {},
   "outputs": [],
   "source": [
    "def lemma(texts_filtered):\n",
    "    wordnet_lemmatizer = WordNetLemmatizer()\n",
    "    texts_lem = []\n",
    "\n",
    "    for i, val in enumerate(texts_filtered):\n",
    "        text_lem = []\n",
    "        for word in val:\n",
    "            text_lem.append(wordnet_lemmatizer.lemmatize(word))\n",
    "        texts_lem.append(text_lem)\n",
    "    \n",
    "    return texts_lem"
   ]
  },
  {
   "cell_type": "code",
   "execution_count": 17,
   "id": "8252607b",
   "metadata": {},
   "outputs": [],
   "source": [
    "tweets_lem = lemma(tweets_stem)"
   ]
  },
  {
   "cell_type": "code",
   "execution_count": 18,
   "id": "d04a1bf6",
   "metadata": {},
   "outputs": [],
   "source": [
    "tweets_ready = []\n",
    "for tweet in tweets_lem:\n",
    "    string = ' '\n",
    "    string = string.join(tweet)\n",
    "    tweets_ready.append(string)"
   ]
  },
  {
   "cell_type": "code",
   "execution_count": 19,
   "id": "84e36112",
   "metadata": {},
   "outputs": [],
   "source": [
    "df_preprocess['tweet'] = tweets_ready"
   ]
  },
  {
   "cell_type": "code",
   "execution_count": 20,
   "id": "d2a0cc90",
   "metadata": {},
   "outputs": [],
   "source": [
    "df_preprocess= df_preprocess[['sentiment_label', 'tweet']]"
   ]
  },
  {
   "cell_type": "code",
   "execution_count": 21,
   "id": "2d345f46",
   "metadata": {
    "scrolled": false
   },
   "outputs": [
    {
     "data": {
      "text/html": [
       "<div>\n",
       "<style scoped>\n",
       "    .dataframe tbody tr th:only-of-type {\n",
       "        vertical-align: middle;\n",
       "    }\n",
       "\n",
       "    .dataframe tbody tr th {\n",
       "        vertical-align: top;\n",
       "    }\n",
       "\n",
       "    .dataframe thead th {\n",
       "        text-align: right;\n",
       "    }\n",
       "</style>\n",
       "<table border=\"1\" class=\"dataframe\">\n",
       "  <thead>\n",
       "    <tr style=\"text-align: right;\">\n",
       "      <th></th>\n",
       "      <th>sentiment_label</th>\n",
       "      <th>tweet</th>\n",
       "    </tr>\n",
       "  </thead>\n",
       "  <tbody>\n",
       "    <tr>\n",
       "      <th>0</th>\n",
       "      <td>0</td>\n",
       "      <td>visit friend great time tomorrow</td>\n",
       "    </tr>\n",
       "    <tr>\n",
       "      <th>1</th>\n",
       "      <td>0</td>\n",
       "      <td>vicar dibley alway make love bit</td>\n",
       "    </tr>\n",
       "  </tbody>\n",
       "</table>\n",
       "</div>"
      ],
      "text/plain": [
       "   sentiment_label                             tweet\n",
       "0                0  visit friend great time tomorrow\n",
       "1                0  vicar dibley alway make love bit"
      ]
     },
     "execution_count": 21,
     "metadata": {},
     "output_type": "execute_result"
    }
   ],
   "source": [
    "df_preprocess.head(2)"
   ]
  },
  {
   "cell_type": "markdown",
   "id": "1fad5e0f",
   "metadata": {},
   "source": [
    "#### Utilize the Keras Tokenizer to change the texts into numbers"
   ]
  },
  {
   "cell_type": "code",
   "execution_count": 22,
   "id": "df922a7a",
   "metadata": {
    "scrolled": false
   },
   "outputs": [
    {
     "name": "stdout",
     "output_type": "stream",
     "text": [
      "Vocabulary Size : 2968\n"
     ]
    }
   ],
   "source": [
    "tokenizer = Tokenizer()\n",
    "tokenizer.fit_on_texts(df_preprocess.tweet)\n",
    "\n",
    "word_index = tokenizer.word_index\n",
    "vocabulary_size = len(tokenizer.word_index) + 1\n",
    "print(\"Vocabulary Size :\", vocabulary_size)"
   ]
  },
  {
   "cell_type": "markdown",
   "id": "725186eb",
   "metadata": {},
   "source": [
    "### Word Embedding with FastText"
   ]
  },
  {
   "cell_type": "code",
   "execution_count": 23,
   "id": "e72a0834",
   "metadata": {},
   "outputs": [],
   "source": [
    "FASTEXT_EMB = 'wiki.simple.vec'\n",
    "EMBEDDING_DIM = 300"
   ]
  },
  {
   "cell_type": "code",
   "execution_count": 24,
   "id": "211d46de",
   "metadata": {
    "scrolled": false
   },
   "outputs": [
    {
     "name": "stderr",
     "output_type": "stream",
     "text": [
      "111052it [00:20, 5389.34it/s]"
     ]
    },
    {
     "name": "stdout",
     "output_type": "stream",
     "text": [
      "found 111052 word vectors\n"
     ]
    },
    {
     "name": "stderr",
     "output_type": "stream",
     "text": [
      "\n"
     ]
    }
   ],
   "source": [
    "embeddings_index = {}\n",
    "f = codecs.open('wiki.simple.vec', encoding='utf-8')\n",
    "for line in tqdm(f):\n",
    "    values = line.rstrip().rsplit(' ')\n",
    "    word = values[0]\n",
    "    coefs = np.asarray(values[1:], dtype='float32')\n",
    "    embeddings_index[word] = coefs\n",
    "f.close()\n",
    "print('found %s word vectors' % len(embeddings_index))"
   ]
  },
  {
   "cell_type": "markdown",
   "id": "bd7cabe8",
   "metadata": {},
   "source": [
    "#### Create the embedding matrix"
   ]
  },
  {
   "cell_type": "code",
   "execution_count": 25,
   "id": "37d0ebf0",
   "metadata": {},
   "outputs": [],
   "source": [
    "embedding_matrix = np.zeros((vocabulary_size, EMBEDDING_DIM))\n",
    "for word, i in word_index.items():\n",
    "  embedding_vector = embeddings_index.get(word)\n",
    "  if embedding_vector is not None:\n",
    "    embedding_matrix[i] = embedding_vector"
   ]
  },
  {
   "cell_type": "code",
   "execution_count": 26,
   "id": "f8a19314",
   "metadata": {},
   "outputs": [],
   "source": [
    "encoded_text=tokenizer.texts_to_sequences(df_preprocess.tweet)"
   ]
  },
  {
   "cell_type": "markdown",
   "id": "807299ed",
   "metadata": {},
   "source": [
    "#### Utilize padding to create sequences of same length"
   ]
  },
  {
   "cell_type": "code",
   "execution_count": 27,
   "id": "09cd4b96",
   "metadata": {},
   "outputs": [],
   "source": [
    "max_sequence_length = 30\n",
    "X=pad_sequences(encoded_text, maxlen=max_sequence_length, padding='post')\n",
    "y=df_preprocess['sentiment_label']"
   ]
  },
  {
   "cell_type": "code",
   "execution_count": 28,
   "id": "8569fc44",
   "metadata": {},
   "outputs": [],
   "source": [
    "batch_size = 256\n",
    "epoch = 6"
   ]
  },
  {
   "cell_type": "code",
   "execution_count": 29,
   "id": "33d6a0e3",
   "metadata": {
    "scrolled": false
   },
   "outputs": [
    {
     "name": "stdout",
     "output_type": "stream",
     "text": [
      "Train Data size: 1200\n",
      "Test Data size 400\n"
     ]
    }
   ],
   "source": [
    "X_train, X_test, y_train, y_test = train_test_split(X, y, test_size=0.25, random_state=42)\n",
    "print(\"Train Data size:\", len(X_train))\n",
    "print(\"Test Data size\", len(X_test))"
   ]
  },
  {
   "cell_type": "code",
   "execution_count": 30,
   "id": "a58b3af3",
   "metadata": {},
   "outputs": [
    {
     "data": {
      "text/plain": [
       "(2968, 300)"
      ]
     },
     "execution_count": 30,
     "metadata": {},
     "output_type": "execute_result"
    }
   ],
   "source": [
    "embedding_matrix.shape"
   ]
  },
  {
   "cell_type": "code",
   "execution_count": 31,
   "id": "d3406c1e",
   "metadata": {},
   "outputs": [],
   "source": [
    "embedding_layer = tf.keras.layers.Embedding(vocabulary_size,\n",
    "                                          EMBEDDING_DIM,\n",
    "                                          weights=[embedding_matrix],\n",
    "                                          input_length=max_sequence_length,\n",
    "                                          trainable=False)"
   ]
  },
  {
   "cell_type": "code",
   "execution_count": 32,
   "id": "ba2c63fb",
   "metadata": {},
   "outputs": [],
   "source": [
    "es=EarlyStopping(monitor='val_loss', min_delta=0, mode='min', verbose=1, patience=5)\n",
    "\n",
    "reduce_lr = ReduceLROnPlateau(factor=0.1, min_delta=0, min_lr = 0.01, monitor = 'val_loss', verbose = 1)"
   ]
  },
  {
   "cell_type": "code",
   "execution_count": 33,
   "id": "4f176201",
   "metadata": {
    "scrolled": true
   },
   "outputs": [
    {
     "name": "stderr",
     "output_type": "stream",
     "text": [
      "2022-04-13 13:48:04.556327: I tensorflow/core/platform/cpu_feature_guard.cc:151] This TensorFlow binary is optimized with oneAPI Deep Neural Network Library (oneDNN) to use the following CPU instructions in performance-critical operations:  AVX2 FMA\n",
      "To enable them in other operations, rebuild TensorFlow with the appropriate compiler flags.\n"
     ]
    }
   ],
   "source": [
    "tf.random.set_seed(1)\n",
    "inputs = tf.keras.Input(shape=(max_sequence_length,), dtype=\"int32\")\n",
    "\n",
    "x = embedding_layer(inputs)\n",
    "x = SpatialDropout1D(0.2)(x)\n",
    "\n",
    "# LSTM (bidirectional)\n",
    "x = Bidirectional(LSTM(64, dropout=0.2, recurrent_dropout=0.2))(x)\n",
    "\n",
    "# Vanilla hidden layer:\n",
    "x = Dense(512, activation=\"relu\")(x)\n",
    "x = Dropout(0.5)(x)\n",
    "\n",
    "outputs = Dense(1, activation=\"sigmoid\")(x)\n",
    "\n",
    "model_ftx = tf.keras.Model(inputs, outputs)"
   ]
  },
  {
   "cell_type": "code",
   "execution_count": 34,
   "id": "a9ead677",
   "metadata": {},
   "outputs": [],
   "source": [
    "model_ftx.compile(optimizer='adam', loss='binary_crossentropy', metrics=['accuracy'])"
   ]
  },
  {
   "cell_type": "code",
   "execution_count": 35,
   "id": "2cc01bd5",
   "metadata": {
    "scrolled": false
   },
   "outputs": [
    {
     "name": "stdout",
     "output_type": "stream",
     "text": [
      "Model: \"model\"\n",
      "_________________________________________________________________\n",
      " Layer (type)                Output Shape              Param #   \n",
      "=================================================================\n",
      " input_1 (InputLayer)        [(None, 30)]              0         \n",
      "                                                                 \n",
      " embedding (Embedding)       (None, 30, 300)           890400    \n",
      "                                                                 \n",
      " spatial_dropout1d (SpatialD  (None, 30, 300)          0         \n",
      " ropout1D)                                                       \n",
      "                                                                 \n",
      " bidirectional (Bidirectiona  (None, 128)              186880    \n",
      " l)                                                              \n",
      "                                                                 \n",
      " dense (Dense)               (None, 512)               66048     \n",
      "                                                                 \n",
      " dropout (Dropout)           (None, 512)               0         \n",
      "                                                                 \n",
      " dense_1 (Dense)             (None, 1)                 513       \n",
      "                                                                 \n",
      "=================================================================\n",
      "Total params: 1,143,841\n",
      "Trainable params: 253,441\n",
      "Non-trainable params: 890,400\n",
      "_________________________________________________________________\n"
     ]
    }
   ],
   "source": [
    "model_ftx.summary()"
   ]
  },
  {
   "cell_type": "code",
   "execution_count": 36,
   "id": "80b480d6",
   "metadata": {
    "scrolled": false
   },
   "outputs": [
    {
     "name": "stdout",
     "output_type": "stream",
     "text": [
      "Epoch 1/6\n",
      "5/5 [==============================] - 8s 529ms/step - loss: 0.6929 - accuracy: 0.4975 - val_loss: 0.6890 - val_accuracy: 0.5475 - lr: 0.0010\n",
      "Epoch 2/6\n",
      "5/5 [==============================] - 2s 427ms/step - loss: 0.6855 - accuracy: 0.5658 - val_loss: 0.6849 - val_accuracy: 0.5800 - lr: 0.0010\n",
      "Epoch 3/6\n",
      "5/5 [==============================] - 2s 391ms/step - loss: 0.6778 - accuracy: 0.6083 - val_loss: 0.6771 - val_accuracy: 0.5900 - lr: 0.0010\n",
      "Epoch 4/6\n",
      "5/5 [==============================] - 2s 489ms/step - loss: 0.6635 - accuracy: 0.6308 - val_loss: 0.6672 - val_accuracy: 0.6125 - lr: 0.0010\n",
      "Epoch 5/6\n",
      "5/5 [==============================] - 2s 484ms/step - loss: 0.6423 - accuracy: 0.6467 - val_loss: 0.6556 - val_accuracy: 0.5950 - lr: 0.0010\n",
      "Epoch 6/6\n",
      "5/5 [==============================] - 3s 550ms/step - loss: 0.6240 - accuracy: 0.6642 - val_loss: 0.6557 - val_accuracy: 0.6150 - lr: 0.0010\n"
     ]
    }
   ],
   "source": [
    "history_ftx = model_ftx.fit(X_train, y_train, batch_size=batch_size, epochs=epoch,\n",
    "                    validation_data=(X_test, y_test), callbacks= [es, reduce_lr])"
   ]
  },
  {
   "cell_type": "markdown",
   "id": "7179de75",
   "metadata": {},
   "source": [
    "#### Plot the learning curves for the accuracy and the loss "
   ]
  },
  {
   "cell_type": "code",
   "execution_count": 37,
   "id": "afba82d0",
   "metadata": {
    "scrolled": true
   },
   "outputs": [
    {
     "data": {
      "image/png": "[encoded data removed]",
      "text/plain": [
       "<Figure size 432x288 with 1 Axes>"
      ]
     },
     "metadata": {
      "needs_background": "light"
     },
     "output_type": "display_data"
    }
   ],
   "source": [
    "plt.plot(history_ftx.history['accuracy'])\n",
    "plt.plot(history_ftx.history['val_accuracy'])\n",
    "plt.ylabel('Accuracy')\n",
    "plt.title('LSTM with Fastext embedding')\n",
    "plt.xlabel('Epoch')\n",
    "plt.legend(['Training_accuracy', 'validation_accuracy'], loc='upper left');"
   ]
  },
  {
   "cell_type": "code",
   "execution_count": 38,
   "id": "9062fb81",
   "metadata": {
    "scrolled": true
   },
   "outputs": [
    {
     "data": {
      "image/png": "[encoded data removed]",
      "text/plain": [
       "<Figure size 432x288 with 1 Axes>"
      ]
     },
     "metadata": {
      "needs_background": "light"
     },
     "output_type": "display_data"
    }
   ],
   "source": [
    "plt.plot(history_ftx.history['loss'])\n",
    "plt.plot(history_ftx.history['val_loss'])\n",
    "plt.ylabel('error')\n",
    "plt.title('LSTM with Fastext embedding')\n",
    "plt.xlabel('Epoch')\n",
    "plt.legend(['Training_loss', 'validation_loss'], loc='lower left');"
   ]
  },
  {
   "cell_type": "code",
   "execution_count": 39,
   "id": "6c37cef4",
   "metadata": {
    "scrolled": true
   },
   "outputs": [
    {
     "name": "stdout",
     "output_type": "stream",
     "text": [
      "13/13 [==============================] - 0s 25ms/step - loss: 0.6557 - accuracy: 0.6150\n",
      "Accuracy: 61.50%\n"
     ]
    }
   ],
   "source": [
    "scores = model_ftx.evaluate(X_test, y_test, verbose=1)\n",
    "print(\"Accuracy: %.2f%%\" % (scores[1] * 100))"
   ]
  },
  {
   "cell_type": "markdown",
   "id": "2b87da6c",
   "metadata": {},
   "source": [
    "### Save the model in a h5 format."
   ]
  },
  {
   "cell_type": "code",
   "execution_count": 40,
   "id": "c742b841",
   "metadata": {},
   "outputs": [],
   "source": [
    "model_ftx.save(\"model.h5\")"
   ]
  },
  {
   "cell_type": "markdown",
   "id": "94e3cdce",
   "metadata": {},
   "source": [
    "### Word embedding  GloVe"
   ]
  },
  {
   "cell_type": "code",
   "execution_count": 41,
   "id": "77cd09d8",
   "metadata": {},
   "outputs": [],
   "source": [
    "GLOVE_EMB = 'glove.6B.300d.txt'\n",
    "EMBEDDING_DIM = 300"
   ]
  },
  {
   "cell_type": "code",
   "execution_count": 42,
   "id": "2e83454e",
   "metadata": {
    "scrolled": false
   },
   "outputs": [
    {
     "name": "stderr",
     "output_type": "stream",
     "text": [
      "400000it [00:52, 7650.18it/s]"
     ]
    },
    {
     "name": "stdout",
     "output_type": "stream",
     "text": [
      "Found 400000 word vectors.\n"
     ]
    },
    {
     "name": "stderr",
     "output_type": "stream",
     "text": [
      "\n"
     ]
    }
   ],
   "source": [
    "embeddings_index = {}\n",
    "f = codecs.open(GLOVE_EMB, encoding='utf-8')\n",
    "for line in tqdm(f):\n",
    "  values = line.split()\n",
    "  word = value = values[0]\n",
    "  coefs = np.asarray(values[1:], dtype='float32')\n",
    "  embeddings_index[word] = coefs\n",
    "f.close()\n",
    "\n",
    "print('Found %s word vectors.' %len(embeddings_index))"
   ]
  },
  {
   "cell_type": "code",
   "execution_count": 43,
   "id": "3a362f1c",
   "metadata": {},
   "outputs": [],
   "source": [
    "embedding_matrix = np.zeros((vocabulary_size, EMBEDDING_DIM))\n",
    "for word, i in word_index.items():\n",
    "  embedding_vector = embeddings_index.get(word)\n",
    "  if embedding_vector is not None:\n",
    "    embedding_matrix[i] = embedding_vector"
   ]
  },
  {
   "cell_type": "code",
   "execution_count": 44,
   "id": "9ea005ff",
   "metadata": {},
   "outputs": [
    {
     "data": {
      "text/plain": [
       "(2968, 300)"
      ]
     },
     "execution_count": 44,
     "metadata": {},
     "output_type": "execute_result"
    }
   ],
   "source": [
    "embedding_matrix.shape"
   ]
  },
  {
   "cell_type": "code",
   "execution_count": 45,
   "id": "63545fc7",
   "metadata": {},
   "outputs": [],
   "source": [
    "embedding_layer = tf.keras.layers.Embedding(vocabulary_size,\n",
    "                                          EMBEDDING_DIM,\n",
    "                                          weights=[embedding_matrix],\n",
    "                                          input_length=max_sequence_length,\n",
    "                                          trainable=False)"
   ]
  },
  {
   "cell_type": "markdown",
   "id": "2bb5fa5d",
   "metadata": {},
   "source": [
    "#### Utilize Bidirectional LSTM and GloVe embedding"
   ]
  },
  {
   "cell_type": "code",
   "execution_count": 46,
   "id": "5340bdd2",
   "metadata": {},
   "outputs": [],
   "source": [
    "inputs = tf.keras.Input(shape=(max_sequence_length,), dtype=\"int32\")\n",
    "\n",
    "x = embedding_layer(inputs)\n",
    "x = SpatialDropout1D(0.2)(x)\n",
    "\n",
    "# Bidirectional LSTM\n",
    "x = Bidirectional(LSTM(64, dropout=0.2, recurrent_dropout=0.2))(x)\n",
    "\n",
    "# Vanilla hidden layer:\n",
    "x = Dense(512, activation=\"relu\")(x)\n",
    "x = Dropout(0.5)(x)\n",
    "\n",
    "outputs = Dense(1, activation=\"sigmoid\")(x)\n",
    "\n",
    "model_glv = tf.keras.Model(inputs, outputs)"
   ]
  },
  {
   "cell_type": "code",
   "execution_count": 47,
   "id": "10011e61",
   "metadata": {},
   "outputs": [],
   "source": [
    "model_glv.compile(optimizer='adam', loss='binary_crossentropy', metrics=['accuracy'])"
   ]
  },
  {
   "cell_type": "code",
   "execution_count": 48,
   "id": "90ee7603",
   "metadata": {
    "scrolled": true
   },
   "outputs": [
    {
     "name": "stdout",
     "output_type": "stream",
     "text": [
      "Epoch 1/6\n",
      "5/5 [==============================] - 9s 630ms/step - loss: 0.6911 - accuracy: 0.5033 - val_loss: 0.6868 - val_accuracy: 0.5925 - lr: 0.0010\n",
      "Epoch 2/6\n",
      "5/5 [==============================] - 2s 420ms/step - loss: 0.6800 - accuracy: 0.5950 - val_loss: 0.6798 - val_accuracy: 0.6000 - lr: 0.0010\n",
      "Epoch 3/6\n",
      "5/5 [==============================] - 2s 369ms/step - loss: 0.6683 - accuracy: 0.6350 - val_loss: 0.6695 - val_accuracy: 0.6175 - lr: 0.0010\n",
      "Epoch 4/6\n",
      "5/5 [==============================] - 2s 365ms/step - loss: 0.6471 - accuracy: 0.6533 - val_loss: 0.6566 - val_accuracy: 0.6025 - lr: 0.0010\n",
      "Epoch 5/6\n",
      "5/5 [==============================] - 2s 481ms/step - loss: 0.6173 - accuracy: 0.6592 - val_loss: 0.6505 - val_accuracy: 0.6200 - lr: 0.0010\n",
      "Epoch 6/6\n",
      "5/5 [==============================] - 2s 446ms/step - loss: 0.5881 - accuracy: 0.7008 - val_loss: 0.6751 - val_accuracy: 0.6275 - lr: 0.0010\n"
     ]
    }
   ],
   "source": [
    "history_glv = model_glv.fit(X_train, y_train, batch_size=batch_size, epochs=epoch,\n",
    "                    validation_data=(X_test, y_test), callbacks= [es, reduce_lr])"
   ]
  },
  {
   "cell_type": "markdown",
   "id": "edf8d5a1",
   "metadata": {},
   "source": [
    "#### Plot the learning curves for the accuracy and the loss"
   ]
  },
  {
   "cell_type": "code",
   "execution_count": 49,
   "id": "523cb783",
   "metadata": {
    "scrolled": true
   },
   "outputs": [
    {
     "data": {
      "image/png": "[encoded data removed]",
      "text/plain": [
       "<Figure size 432x288 with 1 Axes>"
      ]
     },
     "metadata": {
      "needs_background": "light"
     },
     "output_type": "display_data"
    }
   ],
   "source": [
    "plt.plot(history_glv.history['accuracy'])\n",
    "plt.plot(history_glv.history['val_accuracy'])\n",
    "plt.ylabel('Accuracy')\n",
    "plt.title('LSTM with GloVe embedding')\n",
    "plt.xlabel('Epoch')\n",
    "plt.legend(['Training_accuracy', 'validation_accuracy'], loc='upper left');"
   ]
  },
  {
   "cell_type": "code",
   "execution_count": 50,
   "id": "c587c36f",
   "metadata": {
    "scrolled": true
   },
   "outputs": [
    {
     "data": {
      "image/png": "[encoded data removed]",
      "text/plain": [
       "<Figure size 432x288 with 1 Axes>"
      ]
     },
     "metadata": {
      "needs_background": "light"
     },
     "output_type": "display_data"
    }
   ],
   "source": [
    "plt.plot(history_glv.history['loss'])\n",
    "plt.plot(history_glv.history['val_loss'])\n",
    "plt.ylabel('error')\n",
    "plt.title('LSTM with GloVe embedding')\n",
    "plt.xlabel('Epoch')\n",
    "plt.legend(['Training_loss', 'validation_loss'], loc='lower left');"
   ]
  },
  {
   "cell_type": "code",
   "execution_count": 51,
   "id": "a2f84e41",
   "metadata": {
    "scrolled": true
   },
   "outputs": [
    {
     "name": "stdout",
     "output_type": "stream",
     "text": [
      "13/13 [==============================] - 0s 22ms/step - loss: 0.6751 - accuracy: 0.6275\n",
      "Accuracy: 62.75%\n"
     ]
    }
   ],
   "source": [
    "scores = model_glv.evaluate(X_test, y_test, verbose=1)\n",
    "print(\"Accuracy: %.2f%%\" % (scores[1] * 100))"
   ]
  },
  {
   "cell_type": "markdown",
   "id": "1aac4f5e",
   "metadata": {},
   "source": [
    "# Model from Scratch"
   ]
  },
  {
   "cell_type": "markdown",
   "id": "95b03126",
   "metadata": {},
   "source": [
    "### Develop a  CNN model from scratch"
   ]
  },
  {
   "cell_type": "code",
   "execution_count": 52,
   "id": "2dc05be7",
   "metadata": {},
   "outputs": [],
   "source": [
    "texts=df_preprocess['tweet'].tolist()"
   ]
  },
  {
   "cell_type": "code",
   "execution_count": 53,
   "id": "5fe83589",
   "metadata": {},
   "outputs": [],
   "source": [
    "vocab=tokenizer.index_word"
   ]
  },
  {
   "cell_type": "code",
   "execution_count": 54,
   "id": "8aafb6bb",
   "metadata": {
    "scrolled": true
   },
   "outputs": [
    {
     "data": {
      "text/plain": [
       "2968"
      ]
     },
     "execution_count": 54,
     "metadata": {},
     "output_type": "execute_result"
    }
   ],
   "source": [
    "vocab_size=len(tokenizer.index_word)+1\n",
    "vocab_size"
   ]
  },
  {
   "cell_type": "code",
   "execution_count": 55,
   "id": "66f97303",
   "metadata": {},
   "outputs": [],
   "source": [
    "encoded_text=tokenizer.texts_to_sequences(texts)"
   ]
  },
  {
   "cell_type": "code",
   "execution_count": 56,
   "id": "7ed9cc1d",
   "metadata": {},
   "outputs": [],
   "source": [
    "es=EarlyStopping(monitor='val_loss', min_delta=0, mode='min', verbose=1, patience=5)\n",
    "\n",
    "reduce_lr = ReduceLROnPlateau(factor=0.1, min_delta=0, min_lr = 0.01, monitor = 'val_loss', verbose = 1)"
   ]
  },
  {
   "cell_type": "code",
   "execution_count": 57,
   "id": "9df31a57",
   "metadata": {},
   "outputs": [],
   "source": [
    "X_train, X_test, y_train, y_test = train_test_split(X, y, test_size=0.25, random_state=42)"
   ]
  },
  {
   "cell_type": "code",
   "execution_count": 58,
   "id": "cee12723",
   "metadata": {},
   "outputs": [],
   "source": [
    "embedding_dim=100\n",
    "\n",
    "model3=Sequential()\n",
    "model3.add(Embedding(vocab_size, embedding_dim, input_length = max_sequence_length))\n",
    "\n",
    "model3.add(Conv1D(64, 7, activation='relu'))\n",
    "model3.add(MaxPooling1D(2))\n",
    "model3.add(Dropout(0.5))\n",
    "\n",
    "model3.add(Dense(32, activation='relu'))\n",
    "model3.add(Dropout(0.5))\n",
    "\n",
    "model3.add(Dense(16, activation='relu'))\n",
    "\n",
    "model3.add(GlobalMaxPooling1D())\n",
    "\n",
    "model3.add(Dense(1, activation='sigmoid'))"
   ]
  },
  {
   "cell_type": "code",
   "execution_count": 59,
   "id": "3606e400",
   "metadata": {},
   "outputs": [],
   "source": [
    "model3.compile(optimizer='adam', loss='binary_crossentropy', metrics=['accuracy'])"
   ]
  },
  {
   "cell_type": "code",
   "execution_count": 60,
   "id": "71069968",
   "metadata": {
    "scrolled": true
   },
   "outputs": [
    {
     "name": "stdout",
     "output_type": "stream",
     "text": [
      "Epoch 1/6\n",
      "38/38 [==============================] - 1s 19ms/step - loss: 0.6944 - accuracy: 0.4958 - val_loss: 0.6927 - val_accuracy: 0.5275 - lr: 0.0010\n",
      "Epoch 2/6\n",
      "38/38 [==============================] - 1s 15ms/step - loss: 0.6930 - accuracy: 0.5100 - val_loss: 0.6923 - val_accuracy: 0.5300 - lr: 0.0010\n",
      "Epoch 3/6\n",
      "38/38 [==============================] - 1s 16ms/step - loss: 0.6856 - accuracy: 0.5483 - val_loss: 0.6921 - val_accuracy: 0.4975 - lr: 0.0010\n",
      "Epoch 4/6\n",
      "38/38 [==============================] - 1s 14ms/step - loss: 0.6623 - accuracy: 0.5817 - val_loss: 0.6814 - val_accuracy: 0.5675 - lr: 0.0010\n",
      "Epoch 5/6\n",
      "38/38 [==============================] - 0s 13ms/step - loss: 0.5597 - accuracy: 0.7425 - val_loss: 0.7028 - val_accuracy: 0.6000 - lr: 0.0010\n",
      "Epoch 6/6\n",
      "38/38 [==============================] - 1s 16ms/step - loss: 0.3932 - accuracy: 0.8533 - val_loss: 0.7920 - val_accuracy: 0.6250 - lr: 0.0010\n"
     ]
    }
   ],
   "source": [
    "history=model3.fit(X_train, y_train, epochs=6, validation_data=(X_test, y_test), callbacks= [es, reduce_lr])"
   ]
  },
  {
   "cell_type": "code",
   "execution_count": 61,
   "id": "38b1fa51",
   "metadata": {
    "scrolled": false
   },
   "outputs": [
    {
     "name": "stdout",
     "output_type": "stream",
     "text": [
      "Model: \"sequential\"\n",
      "_________________________________________________________________\n",
      " Layer (type)                Output Shape              Param #   \n",
      "=================================================================\n",
      " embedding_2 (Embedding)     (None, 30, 100)           296800    \n",
      "                                                                 \n",
      " conv1d (Conv1D)             (None, 24, 64)            44864     \n",
      "                                                                 \n",
      " max_pooling1d (MaxPooling1D  (None, 12, 64)           0         \n",
      " )                                                               \n",
      "                                                                 \n",
      " dropout_2 (Dropout)         (None, 12, 64)            0         \n",
      "                                                                 \n",
      " dense_4 (Dense)             (None, 12, 32)            2080      \n",
      "                                                                 \n",
      " dropout_3 (Dropout)         (None, 12, 32)            0         \n",
      "                                                                 \n",
      " dense_5 (Dense)             (None, 12, 16)            528       \n",
      "                                                                 \n",
      " global_max_pooling1d (Globa  (None, 16)               0         \n",
      " lMaxPooling1D)                                                  \n",
      "                                                                 \n",
      " dense_6 (Dense)             (None, 1)                 17        \n",
      "                                                                 \n",
      "=================================================================\n",
      "Total params: 344,289\n",
      "Trainable params: 344,289\n",
      "Non-trainable params: 0\n",
      "_________________________________________________________________\n"
     ]
    }
   ],
   "source": [
    "model3.summary()"
   ]
  },
  {
   "cell_type": "code",
   "execution_count": 62,
   "id": "0cba0f79",
   "metadata": {
    "scrolled": false
   },
   "outputs": [
    {
     "data": {
      "image/png": "[encoded data removed]",
      "text/plain": [
       "<Figure size 432x288 with 1 Axes>"
      ]
     },
     "metadata": {
      "needs_background": "light"
     },
     "output_type": "display_data"
    }
   ],
   "source": [
    "plt.plot(history.history['loss'])\n",
    "plt.plot(history.history['val_loss'])\n",
    "plt.ylabel('error')\n",
    "plt.title('CNN')\n",
    "plt.xlabel('Epoch')\n",
    "plt.legend(['Training_loss', 'validation_loss'], loc='lower left');"
   ]
  },
  {
   "cell_type": "code",
   "execution_count": 63,
   "id": "64122f59",
   "metadata": {
    "scrolled": true
   },
   "outputs": [
    {
     "name": "stdout",
     "output_type": "stream",
     "text": [
      "13/13 [==============================] - 0s 3ms/step - loss: 0.7920 - accuracy: 0.6250\n",
      "Accuracy: 62.50%\n"
     ]
    }
   ],
   "source": [
    "scores = model3.evaluate(X_test, y_test, verbose=1)\n",
    "print(\"Accuracy: %.2f%%\" % (scores[1] * 100))"
   ]
  },
  {
   "cell_type": "markdown",
   "id": "7c99c214",
   "metadata": {},
   "source": [
    "### Using a  LSTM model from scratch"
   ]
  },
  {
   "cell_type": "code",
   "execution_count": 64,
   "id": "2d355803",
   "metadata": {},
   "outputs": [],
   "source": [
    "embedding_dim = 100\n",
    "\n",
    "model4 = Sequential()\n",
    "model4.add(Embedding(vocab_size, embedding_dim,input_length = max_sequence_length))\n",
    "model4.add(SpatialDropout1D(0.2))\n",
    "model4.add(LSTM(64, dropout=0.2, recurrent_dropout=0.2))\n",
    "model4.add(Dense(1, activation='sigmoid'))"
   ]
  },
  {
   "cell_type": "code",
   "execution_count": 65,
   "id": "59e27f71",
   "metadata": {},
   "outputs": [],
   "source": [
    "model4.compile(optimizer='adam', loss='binary_crossentropy', metrics=['accuracy'])"
   ]
  },
  {
   "cell_type": "code",
   "execution_count": 66,
   "id": "b148e5e5",
   "metadata": {
    "scrolled": false
   },
   "outputs": [
    {
     "name": "stdout",
     "output_type": "stream",
     "text": [
      "Epoch 1/6\n",
      "38/38 [==============================] - 5s 55ms/step - loss: 0.6936 - accuracy: 0.5058 - val_loss: 0.6966 - val_accuracy: 0.4850 - lr: 0.0010\n",
      "Epoch 2/6\n",
      "38/38 [==============================] - 2s 48ms/step - loss: 0.6953 - accuracy: 0.4925 - val_loss: 0.6933 - val_accuracy: 0.4850 - lr: 0.0010\n",
      "Epoch 3/6\n",
      "38/38 [==============================] - 2s 46ms/step - loss: 0.6931 - accuracy: 0.4983 - val_loss: 0.6928 - val_accuracy: 0.4850 - lr: 0.0010\n",
      "Epoch 4/6\n",
      "38/38 [==============================] - 2s 52ms/step - loss: 0.5795 - accuracy: 0.7125 - val_loss: 0.6860 - val_accuracy: 0.6075 - lr: 0.0010\n",
      "Epoch 5/6\n",
      "38/38 [==============================] - 2s 45ms/step - loss: 0.4279 - accuracy: 0.8567 - val_loss: 0.8388 - val_accuracy: 0.6025 - lr: 0.0010\n",
      "Epoch 6/6\n",
      "38/38 [==============================] - 2s 46ms/step - loss: 0.3245 - accuracy: 0.8992 - val_loss: 0.9676 - val_accuracy: 0.6225 - lr: 0.0010\n"
     ]
    }
   ],
   "source": [
    "history=model4.fit(X_train, y_train, epochs=6, validation_data=(X_test, y_test), callbacks= [es, reduce_lr])"
   ]
  },
  {
   "cell_type": "code",
   "execution_count": 67,
   "id": "616a7f80",
   "metadata": {
    "scrolled": true
   },
   "outputs": [
    {
     "name": "stdout",
     "output_type": "stream",
     "text": [
      "Model: \"sequential_1\"\n",
      "_________________________________________________________________\n",
      " Layer (type)                Output Shape              Param #   \n",
      "=================================================================\n",
      " embedding_3 (Embedding)     (None, 30, 100)           296800    \n",
      "                                                                 \n",
      " spatial_dropout1d_2 (Spatia  (None, 30, 100)          0         \n",
      " lDropout1D)                                                     \n",
      "                                                                 \n",
      " lstm_2 (LSTM)               (None, 64)                42240     \n",
      "                                                                 \n",
      " dense_7 (Dense)             (None, 1)                 65        \n",
      "                                                                 \n",
      "=================================================================\n",
      "Total params: 339,105\n",
      "Trainable params: 339,105\n",
      "Non-trainable params: 0\n",
      "_________________________________________________________________\n"
     ]
    }
   ],
   "source": [
    "model4.summary()"
   ]
  },
  {
   "cell_type": "code",
   "execution_count": 68,
   "id": "ac3ca053",
   "metadata": {
    "scrolled": true
   },
   "outputs": [
    {
     "data": {
      "image/png": "[encoded data removed]",
      "text/plain": [
       "<Figure size 432x288 with 1 Axes>"
      ]
     },
     "metadata": {
      "needs_background": "light"
     },
     "output_type": "display_data"
    }
   ],
   "source": [
    "plt.plot(history.history['loss'])\n",
    "plt.plot(history.history['val_loss'])\n",
    "plt.ylabel('error')\n",
    "plt.title('LSTM')\n",
    "plt.xlabel('Epoch')\n",
    "plt.legend(['Training_loss', 'validation_loss'], loc='lower left');"
   ]
  },
  {
   "cell_type": "code",
   "execution_count": 69,
   "id": "993b4858",
   "metadata": {
    "scrolled": true
   },
   "outputs": [
    {
     "name": "stdout",
     "output_type": "stream",
     "text": [
      "13/13 [==============================] - 0s 6ms/step - loss: 0.9676 - accuracy: 0.6225\n",
      "Accuracy: 62.25%\n"
     ]
    }
   ],
   "source": [
    "scores = model4.evaluate(X_test, y_test, verbose=1)\n",
    "print(\"Accuracy: %.2f%%\" % (scores[1] * 100))"
   ]
  },
  {
   "cell_type": "markdown",
   "id": "2840152a",
   "metadata": {},
   "source": [
    "## So the best accuracy is obtained by the Bi-LSTM GloVe model."
   ]
  },
  {
   "cell_type": "markdown",
   "id": "49ca0be5",
   "metadata": {},
   "source": [
    "### Now we try to deploy the fastText model in Microsoft Azure."
   ]
  },
  {
   "cell_type": "code",
   "execution_count": null,
   "id": "997b89b8",
   "metadata": {},
   "outputs": [],
   "source": []
  }
 ],
 "metadata": {
  "kernelspec": {
   "display_name": "Python 3 (ipykernel)",
   "language": "python",
   "name": "python3"
  },
  "language_info": {
   "codemirror_mode": {
    "name": "ipython",
    "version": 3
   },
   "file_extension": ".py",
   "mimetype": "text/x-python",
   "name": "python",
   "nbconvert_exporter": "python",
   "pygments_lexer": "ipython3",
   "version": "3.8.1"
  }
 },
 "nbformat": 4,
 "nbformat_minor": 5
}
