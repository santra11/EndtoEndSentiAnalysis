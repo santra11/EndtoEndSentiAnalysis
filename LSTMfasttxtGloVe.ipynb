{
 "cells": [
  {
   "cell_type": "markdown",
   "id": "db080d9a",
   "metadata": {},
   "source": [
    "Model Bi-LSTM with  (Glove vs FastText)\n",
    "-----------------"
   ]
  },
  {
   "cell_type": "markdown",
   "id": "571af57c",
   "metadata": {},
   "source": [
    "In this notebook we will compare the embeddings fastText and Global Vectors (GloVe) on a dataset.\n",
    "\n",
    "*  GloVe focuses on words co-occurrences over the whole corpus. Its embeddings relate to the probabilities that two words appear together.\n",
    "\n",
    "\n",
    "*  FastText improves on Word2Vec by taking word parts into account, too. This trick enables training of embeddings on smaller datasets and generalization to unknown words."
   ]
  },
  {
   "cell_type": "code",
   "execution_count": 1,
   "id": "1a388cbd",
   "metadata": {
    "scrolled": false
   },
   "outputs": [],
   "source": [
    "# Import the required Libraries\n",
    "import pandas as pd\n",
    "import numpy as np\n",
    "from matplotlib import pyplot as plt\n",
    "%matplotlib inline\n",
    "\n",
    "import nltk\n",
    "from nltk.corpus import stopwords\n",
    "from nltk.stem import WordNetLemmatizer\n",
    "import sklearn\n",
    "from sklearn.model_selection import train_test_split\n",
    "from tensorflow import keras\n",
    "from gensim.models.fasttext import FastText\n",
    "\n",
    "from tensorflow.keras import layers\n",
    "from keras.preprocessing.sequence import pad_sequences\n",
    "from keras.preprocessing.text import Tokenizer\n",
    "from tensorflow.keras.models import Sequential\n",
    "from keras.layers.embeddings import Embedding\n",
    "from tensorflow.keras.layers import Conv1D, Bidirectional, LSTM, Dense, Input, Dropout, MaxPooling1D, SpatialDropout1D, GlobalMaxPooling1D\n",
    "from tensorflow.keras.optimizers import Adam\n",
    "from tensorflow.keras.callbacks import ReduceLROnPlateau, EarlyStopping\n",
    "import tensorflow as tf\n",
    "import codecs\n",
    "from tqdm import tqdm"
   ]
  },
  {
   "cell_type": "markdown",
   "id": "7bf25692",
   "metadata": {},
   "source": [
    "### Create a balanced dataset by stratifying the dataset 'https://www.kaggle.com/datasets/kazanova/sentiment140'"
   ]
  },
  {
   "cell_type": "code",
   "execution_count": 2,
   "id": "54e7770f",
   "metadata": {},
   "outputs": [
    {
     "data": {
      "text/html": [
       "<div>\n",
       "<style scoped>\n",
       "    .dataframe tbody tr th:only-of-type {\n",
       "        vertical-align: middle;\n",
       "    }\n",
       "\n",
       "    .dataframe tbody tr th {\n",
       "        vertical-align: top;\n",
       "    }\n",
       "\n",
       "    .dataframe thead th {\n",
       "        text-align: right;\n",
       "    }\n",
       "</style>\n",
       "<table border=\"1\" class=\"dataframe\">\n",
       "  <thead>\n",
       "    <tr style=\"text-align: right;\">\n",
       "      <th></th>\n",
       "      <th>sentiment_label</th>\n",
       "      <th>tweet_text</th>\n",
       "    </tr>\n",
       "  </thead>\n",
       "  <tbody>\n",
       "    <tr>\n",
       "      <th>0</th>\n",
       "      <td>0</td>\n",
       "      <td>visited my friends and had a great time!!! Tom...</td>\n",
       "    </tr>\n",
       "    <tr>\n",
       "      <th>1</th>\n",
       "      <td>0</td>\n",
       "      <td>vicar of dibley always makes me cry  love them...</td>\n",
       "    </tr>\n",
       "  </tbody>\n",
       "</table>\n",
       "</div>"
      ],
      "text/plain": [
       "   sentiment_label                                         tweet_text\n",
       "0                0  visited my friends and had a great time!!! Tom...\n",
       "1                0  vicar of dibley always makes me cry  love them..."
      ]
     },
     "execution_count": 2,
     "metadata": {},
     "output_type": "execute_result"
    }
   ],
   "source": [
    "df=pd.read_csv('tweet.csv')\n",
    "df.head(2)"
   ]
  },
  {
   "cell_type": "code",
   "execution_count": 3,
   "id": "732dc737",
   "metadata": {
    "scrolled": true
   },
   "outputs": [
    {
     "data": {
      "text/plain": [
       "(1600, 2)"
      ]
     },
     "execution_count": 3,
     "metadata": {},
     "output_type": "execute_result"
    }
   ],
   "source": [
    "df.shape"
   ]
  },
  {
   "cell_type": "code",
   "execution_count": 4,
   "id": "526f3f49",
   "metadata": {},
   "outputs": [],
   "source": [
    "df['sentiment_label'] = df.sentiment_label.replace(4, 1)"
   ]
  },
  {
   "cell_type": "code",
   "execution_count": 5,
   "id": "c45f25fc",
   "metadata": {
    "scrolled": true
   },
   "outputs": [
    {
     "data": {
      "text/plain": [
       "0    800\n",
       "1    800\n",
       "Name: sentiment_label, dtype: int64"
      ]
     },
     "execution_count": 5,
     "metadata": {},
     "output_type": "execute_result"
    }
   ],
   "source": [
    "df['sentiment_label'].value_counts()"
   ]
  },
  {
   "cell_type": "markdown",
   "id": "6b4fb1ed",
   "metadata": {},
   "source": [
    "#### The dataset is balanced"
   ]
  },
  {
   "cell_type": "code",
   "execution_count": 6,
   "id": "b30521a6",
   "metadata": {},
   "outputs": [],
   "source": [
    "df_preprocess = df.copy()"
   ]
  },
  {
   "cell_type": "markdown",
   "id": "e246818c",
   "metadata": {},
   "source": [
    "#### Preprocess the text"
   ]
  },
  {
   "cell_type": "code",
   "execution_count": 7,
   "id": "b1dd12f4",
   "metadata": {
    "scrolled": true
   },
   "outputs": [
    {
     "data": {
      "text/plain": [
       "0    visited my friends and had a great time!!! Tom...\n",
       "1    vicar of dibley always makes me cry  love them...\n",
       "2                 Cleaning house and fighting fatigue \n",
       "3    I can't get to sleep. I have an urge to make f...\n",
       "4    HELLO ALL TWITTERS!! I've missed u. Been away ...\n",
       "Name: tweet_text, dtype: object"
      ]
     },
     "execution_count": 7,
     "metadata": {},
     "output_type": "execute_result"
    }
   ],
   "source": [
    "tweets = df_preprocess.tweet_text\n",
    "tweets.head()"
   ]
  },
  {
   "cell_type": "code",
   "execution_count": 8,
   "id": "8a94c46a",
   "metadata": {},
   "outputs": [
    {
     "data": {
      "text/plain": [
       "'visited my friends and had a great time!!! Tomorrow, up at 6:00 a.m.'"
      ]
     },
     "execution_count": 8,
     "metadata": {},
     "output_type": "execute_result"
    }
   ],
   "source": [
    "def removeWordWithChar(text, char_list):\n",
    "    #Remove words in a text that contains a char from the list.\n",
    "    text = text.split()\n",
    "    res = [ele for ele in text if all(ch not in ele for ch in char_list)]\n",
    "    res = ' '.join(res)\n",
    "    return res\n",
    "\n",
    "char_list = ['@', '#', 'http', 'www', '/']\n",
    "\n",
    "removeWordWithChar(tweets[0], char_list)"
   ]
  },
  {
   "cell_type": "code",
   "execution_count": 9,
   "id": "32a0daa9",
   "metadata": {},
   "outputs": [],
   "source": [
    "tweets_cleaned = []\n",
    "for t in tweets:\n",
    "    tweets_cleaned.append(removeWordWithChar(t, char_list))"
   ]
  },
  {
   "cell_type": "code",
   "execution_count": 10,
   "id": "d1ecea03",
   "metadata": {},
   "outputs": [],
   "source": [
    "def tokenize(texts):\n",
    "    tokenizer = nltk.RegexpTokenizer(r'\\w+')\n",
    "\n",
    "    texts_tokens = []\n",
    "    for i, val in enumerate(texts):\n",
    "        text_tokens = tokenizer.tokenize(val.lower())\n",
    "\n",
    "        for i in range(len(text_tokens) - 1, -1, -1):\n",
    "            if len(text_tokens[i]) < 4:\n",
    "                del(text_tokens[i])\n",
    "\n",
    "        texts_tokens.append(text_tokens)\n",
    "        \n",
    "    return texts_tokens"
   ]
  },
  {
   "cell_type": "code",
   "execution_count": 11,
   "id": "a76c349a",
   "metadata": {},
   "outputs": [],
   "source": [
    "tweets_tokens = tokenize(tweets_cleaned)"
   ]
  },
  {
   "cell_type": "code",
   "execution_count": 12,
   "id": "a4d51e6a",
   "metadata": {},
   "outputs": [],
   "source": [
    "def removeSW(texts_tokens):\n",
    "    stopWords = set(stopwords.words('english'))\n",
    "    texts_filtered = []\n",
    "\n",
    "    for i, val in enumerate(texts_tokens):\n",
    "        text_filtered = []\n",
    "        for w in val:\n",
    "            if w not in stopWords:\n",
    "                text_filtered.append(w)\n",
    "        texts_filtered.append(text_filtered)\n",
    "        \n",
    "    return texts_filtered"
   ]
  },
  {
   "cell_type": "code",
   "execution_count": 13,
   "id": "84e3e42b",
   "metadata": {},
   "outputs": [],
   "source": [
    "tweets_filtered = removeSW(tweets_tokens)"
   ]
  },
  {
   "cell_type": "markdown",
   "id": "e83019fa",
   "metadata": {},
   "source": [
    "#### Stemming and Lemmatisation"
   ]
  },
  {
   "cell_type": "code",
   "execution_count": 14,
   "id": "2723eb0e",
   "metadata": {},
   "outputs": [],
   "source": [
    "from nltk.stem import PorterStemmer\n",
    "def stem(texts_filtered):\n",
    "    stemmer=PorterStemmer()\n",
    "    texts_stem = []\n",
    "\n",
    "    for i, val in enumerate(texts_filtered):\n",
    "        text_stem = []\n",
    "        for word in val:\n",
    "            text_stem.append(stemmer.stem(word))\n",
    "        texts_stem.append(text_stem)\n",
    "    return texts_stem"
   ]
  },
  {
   "cell_type": "code",
   "execution_count": 15,
   "id": "12c1d98a",
   "metadata": {},
   "outputs": [],
   "source": [
    "tweets_stem = stem(tweets_filtered)"
   ]
  },
  {
   "cell_type": "code",
   "execution_count": 16,
   "id": "5c64138b",
   "metadata": {},
   "outputs": [],
   "source": [
    "def lemma(texts_filtered):\n",
    "    wordnet_lemmatizer = WordNetLemmatizer()\n",
    "    texts_lem = []\n",
    "\n",
    "    for i, val in enumerate(texts_filtered):\n",
    "        text_lem = []\n",
    "        for word in val:\n",
    "            text_lem.append(wordnet_lemmatizer.lemmatize(word))\n",
    "        texts_lem.append(text_lem)\n",
    "    \n",
    "    return texts_lem"
   ]
  },
  {
   "cell_type": "code",
   "execution_count": 17,
   "id": "8252607b",
   "metadata": {},
   "outputs": [],
   "source": [
    "tweets_lem = lemma(tweets_stem)"
   ]
  },
  {
   "cell_type": "code",
   "execution_count": 18,
   "id": "d04a1bf6",
   "metadata": {},
   "outputs": [],
   "source": [
    "tweets_ready = []\n",
    "for tweet in tweets_lem:\n",
    "    string = ' '\n",
    "    string = string.join(tweet)\n",
    "    tweets_ready.append(string)"
   ]
  },
  {
   "cell_type": "code",
   "execution_count": 19,
   "id": "84e36112",
   "metadata": {},
   "outputs": [],
   "source": [
    "df_preprocess['tweet'] = tweets_ready"
   ]
  },
  {
   "cell_type": "code",
   "execution_count": 20,
   "id": "d2a0cc90",
   "metadata": {},
   "outputs": [],
   "source": [
    "df_preprocess= df_preprocess[['sentiment_label', 'tweet']]"
   ]
  },
  {
   "cell_type": "code",
   "execution_count": 21,
   "id": "2d345f46",
   "metadata": {
    "scrolled": false
   },
   "outputs": [
    {
     "data": {
      "text/html": [
       "<div>\n",
       "<style scoped>\n",
       "    .dataframe tbody tr th:only-of-type {\n",
       "        vertical-align: middle;\n",
       "    }\n",
       "\n",
       "    .dataframe tbody tr th {\n",
       "        vertical-align: top;\n",
       "    }\n",
       "\n",
       "    .dataframe thead th {\n",
       "        text-align: right;\n",
       "    }\n",
       "</style>\n",
       "<table border=\"1\" class=\"dataframe\">\n",
       "  <thead>\n",
       "    <tr style=\"text-align: right;\">\n",
       "      <th></th>\n",
       "      <th>sentiment_label</th>\n",
       "      <th>tweet</th>\n",
       "    </tr>\n",
       "  </thead>\n",
       "  <tbody>\n",
       "    <tr>\n",
       "      <th>0</th>\n",
       "      <td>0</td>\n",
       "      <td>visit friend great time tomorrow</td>\n",
       "    </tr>\n",
       "    <tr>\n",
       "      <th>1</th>\n",
       "      <td>0</td>\n",
       "      <td>vicar dibley alway make love bit</td>\n",
       "    </tr>\n",
       "  </tbody>\n",
       "</table>\n",
       "</div>"
      ],
      "text/plain": [
       "   sentiment_label                             tweet\n",
       "0                0  visit friend great time tomorrow\n",
       "1                0  vicar dibley alway make love bit"
      ]
     },
     "execution_count": 21,
     "metadata": {},
     "output_type": "execute_result"
    }
   ],
   "source": [
    "df_preprocess.head(2)"
   ]
  },
  {
   "cell_type": "markdown",
   "id": "1fad5e0f",
   "metadata": {},
   "source": [
    "#### Utilize the Keras Tokenizer to change the texts into numbers"
   ]
  },
  {
   "cell_type": "code",
   "execution_count": 22,
   "id": "df922a7a",
   "metadata": {
    "scrolled": false
   },
   "outputs": [
    {
     "name": "stdout",
     "output_type": "stream",
     "text": [
      "Vocabulary Size : 2968\n"
     ]
    }
   ],
   "source": [
    "tokenizer = Tokenizer()\n",
    "tokenizer.fit_on_texts(df_preprocess.tweet)\n",
    "\n",
    "word_index = tokenizer.word_index\n",
    "vocabulary_size = len(tokenizer.word_index) + 1\n",
    "print(\"Vocabulary Size :\", vocabulary_size)"
   ]
  },
  {
   "cell_type": "markdown",
   "id": "725186eb",
   "metadata": {},
   "source": [
    "### Word Embedding with FastText"
   ]
  },
  {
   "cell_type": "code",
   "execution_count": 23,
   "id": "e72a0834",
   "metadata": {},
   "outputs": [],
   "source": [
    "FASTEXT_EMB = 'wiki.simple.vec'\n",
    "EMBEDDING_DIM = 300"
   ]
  },
  {
   "cell_type": "code",
   "execution_count": 24,
   "id": "211d46de",
   "metadata": {
    "scrolled": false
   },
   "outputs": [
    {
     "name": "stderr",
     "output_type": "stream",
     "text": [
      "111052it [00:13, 8424.12it/s]"
     ]
    },
    {
     "name": "stdout",
     "output_type": "stream",
     "text": [
      "found 111052 word vectors\n"
     ]
    },
    {
     "name": "stderr",
     "output_type": "stream",
     "text": [
      "\n"
     ]
    }
   ],
   "source": [
    "embeddings_index = {}\n",
    "f = codecs.open('wiki.simple.vec', encoding='utf-8')\n",
    "for line in tqdm(f):\n",
    "    values = line.rstrip().rsplit(' ')\n",
    "    word = values[0]\n",
    "    coefs = np.asarray(values[1:], dtype='float32')\n",
    "    embeddings_index[word] = coefs\n",
    "f.close()\n",
    "print('found %s word vectors' % len(embeddings_index))"
   ]
  },
  {
   "cell_type": "markdown",
   "id": "bd7cabe8",
   "metadata": {},
   "source": [
    "#### Create the embedding matrix"
   ]
  },
  {
   "cell_type": "code",
   "execution_count": 25,
   "id": "37d0ebf0",
   "metadata": {},
   "outputs": [],
   "source": [
    "embedding_matrix = np.zeros((vocabulary_size, EMBEDDING_DIM))\n",
    "for word, i in word_index.items():\n",
    "  embedding_vector = embeddings_index.get(word)\n",
    "  if embedding_vector is not None:\n",
    "    embedding_matrix[i] = embedding_vector"
   ]
  },
  {
   "cell_type": "code",
   "execution_count": 26,
   "id": "f8a19314",
   "metadata": {},
   "outputs": [],
   "source": [
    "encoded_text=tokenizer.texts_to_sequences(df_preprocess.tweet)"
   ]
  },
  {
   "cell_type": "markdown",
   "id": "807299ed",
   "metadata": {},
   "source": [
    "#### Utilize padding to create sequences of same length"
   ]
  },
  {
   "cell_type": "code",
   "execution_count": 27,
   "id": "09cd4b96",
   "metadata": {},
   "outputs": [],
   "source": [
    "max_sequence_length = 30\n",
    "X=pad_sequences(encoded_text, maxlen=max_sequence_length, padding='post')\n",
    "y=df_preprocess['sentiment_label']"
   ]
  },
  {
   "cell_type": "code",
   "execution_count": 28,
   "id": "8569fc44",
   "metadata": {},
   "outputs": [],
   "source": [
    "batch_size = 256\n",
    "epoch = 6"
   ]
  },
  {
   "cell_type": "code",
   "execution_count": 29,
   "id": "33d6a0e3",
   "metadata": {
    "scrolled": false
   },
   "outputs": [
    {
     "name": "stdout",
     "output_type": "stream",
     "text": [
      "Train Data size: 1200\n",
      "Test Data size 400\n"
     ]
    }
   ],
   "source": [
    "X_train, X_test, y_train, y_test = train_test_split(X, y, test_size=0.25, random_state=42)\n",
    "print(\"Train Data size:\", len(X_train))\n",
    "print(\"Test Data size\", len(X_test))"
   ]
  },
  {
   "cell_type": "code",
   "execution_count": 30,
   "id": "a58b3af3",
   "metadata": {},
   "outputs": [
    {
     "data": {
      "text/plain": [
       "(2968, 300)"
      ]
     },
     "execution_count": 30,
     "metadata": {},
     "output_type": "execute_result"
    }
   ],
   "source": [
    "embedding_matrix.shape"
   ]
  },
  {
   "cell_type": "code",
   "execution_count": 31,
   "id": "d3406c1e",
   "metadata": {},
   "outputs": [],
   "source": [
    "embedding_layer = Embedding(vocabulary_size,\n",
    "                                          EMBEDDING_DIM,\n",
    "                                          weights=[embedding_matrix],\n",
    "                                          input_length=max_sequence_length,\n",
    "                                          trainable=False)"
   ]
  },
  {
   "cell_type": "code",
   "execution_count": 32,
   "id": "ba2c63fb",
   "metadata": {},
   "outputs": [],
   "source": [
    "es=EarlyStopping(monitor='val_loss', min_delta=0, mode='min', verbose=1, patience=5)\n",
    "\n",
    "reduce_lr = ReduceLROnPlateau(factor=0.1, min_delta=0, min_lr = 0.01, monitor = 'val_loss', verbose = 1)"
   ]
  },
  {
   "cell_type": "markdown",
   "id": "2ea906bc",
   "metadata": {},
   "source": [
    "**Create Bi-derectional LSTM model**\n",
    "\n",
    "Long Short-Term Memory (LSTM) is based on neural networks which play an important role in the field of Natural Language Processing. "
   ]
  },
  {
   "cell_type": "code",
   "execution_count": 33,
   "id": "4f176201",
   "metadata": {
    "scrolled": false
   },
   "outputs": [
    {
     "name": "stderr",
     "output_type": "stream",
     "text": [
      "2022-11-03 17:48:10.648384: I tensorflow/core/platform/cpu_feature_guard.cc:151] This TensorFlow binary is optimized with oneAPI Deep Neural Network Library (oneDNN) to use the following CPU instructions in performance-critical operations:  AVX2 FMA\n",
      "To enable them in other operations, rebuild TensorFlow with the appropriate compiler flags.\n"
     ]
    }
   ],
   "source": [
    "inputs = tf.keras.Input(shape=(max_sequence_length,), dtype=\"int32\")\n",
    "\n",
    "x = embedding_layer(inputs)\n",
    "x = SpatialDropout1D(0.2)(x)\n",
    "\n",
    "# LSTM (bidirectional)\n",
    "x = Bidirectional(LSTM(64, dropout=0.2, recurrent_dropout=0.2))(x)\n",
    "\n",
    "# Vanilla hidden layer:\n",
    "x = Dense(512, activation=\"relu\")(x)\n",
    "x = Dropout(0.5)(x)\n",
    "\n",
    "outputs = Dense(1, activation=\"sigmoid\")(x)\n",
    "\n",
    "model_ftx = tf.keras.Model(inputs, outputs)"
   ]
  },
  {
   "cell_type": "code",
   "execution_count": 34,
   "id": "a9ead677",
   "metadata": {},
   "outputs": [],
   "source": [
    "model_ftx.compile(optimizer='adam', loss='binary_crossentropy', metrics=['accuracy'])"
   ]
  },
  {
   "cell_type": "code",
   "execution_count": 35,
   "id": "2cc01bd5",
   "metadata": {
    "scrolled": true
   },
   "outputs": [
    {
     "name": "stdout",
     "output_type": "stream",
     "text": [
      "Model: \"model\"\n",
      "_________________________________________________________________\n",
      " Layer (type)                Output Shape              Param #   \n",
      "=================================================================\n",
      " input_1 (InputLayer)        [(None, 30)]              0         \n",
      "                                                                 \n",
      " embedding (Embedding)       (None, 30, 300)           890400    \n",
      "                                                                 \n",
      " spatial_dropout1d (SpatialD  (None, 30, 300)          0         \n",
      " ropout1D)                                                       \n",
      "                                                                 \n",
      " bidirectional (Bidirectiona  (None, 128)              186880    \n",
      " l)                                                              \n",
      "                                                                 \n",
      " dense (Dense)               (None, 512)               66048     \n",
      "                                                                 \n",
      " dropout (Dropout)           (None, 512)               0         \n",
      "                                                                 \n",
      " dense_1 (Dense)             (None, 1)                 513       \n",
      "                                                                 \n",
      "=================================================================\n",
      "Total params: 1,143,841\n",
      "Trainable params: 253,441\n",
      "Non-trainable params: 890,400\n",
      "_________________________________________________________________\n"
     ]
    }
   ],
   "source": [
    "model_ftx.summary()"
   ]
  },
  {
   "cell_type": "code",
   "execution_count": 36,
   "id": "80b480d6",
   "metadata": {
    "scrolled": false
   },
   "outputs": [
    {
     "name": "stdout",
     "output_type": "stream",
     "text": [
      "Epoch 1/6\n",
      "5/5 [==============================] - 9s 745ms/step - loss: 0.6939 - accuracy: 0.4875 - val_loss: 0.6910 - val_accuracy: 0.5625 - lr: 0.0010\n",
      "Epoch 2/6\n",
      "5/5 [==============================] - 2s 395ms/step - loss: 0.6876 - accuracy: 0.5642 - val_loss: 0.6880 - val_accuracy: 0.5625 - lr: 0.0010\n",
      "Epoch 3/6\n",
      "5/5 [==============================] - 2s 457ms/step - loss: 0.6812 - accuracy: 0.5950 - val_loss: 0.6828 - val_accuracy: 0.5550 - lr: 0.0010\n",
      "Epoch 4/6\n",
      "5/5 [==============================] - 2s 405ms/step - loss: 0.6696 - accuracy: 0.6333 - val_loss: 0.6730 - val_accuracy: 0.5650 - lr: 0.0010\n",
      "Epoch 5/6\n",
      "5/5 [==============================] - 2s 410ms/step - loss: 0.6463 - accuracy: 0.6350 - val_loss: 0.6613 - val_accuracy: 0.5875 - lr: 0.0010\n",
      "Epoch 6/6\n",
      "5/5 [==============================] - 2s 369ms/step - loss: 0.6216 - accuracy: 0.6525 - val_loss: 0.6613 - val_accuracy: 0.6025 - lr: 0.0010\n"
     ]
    }
   ],
   "source": [
    "history_ftx = model_ftx.fit(X_train, y_train, batch_size=batch_size, epochs=epoch,\n",
    "                    validation_data=(X_test, y_test), callbacks= [es, reduce_lr])"
   ]
  },
  {
   "cell_type": "markdown",
   "id": "7179de75",
   "metadata": {},
   "source": [
    "#### Plot the learning curves for the accuracy and the loss "
   ]
  },
  {
   "cell_type": "code",
   "execution_count": 37,
   "id": "afba82d0",
   "metadata": {
    "scrolled": true
   },
   "outputs": [
    {
     "data": {
      "image/png": "[encoded data removed]",
      "text/plain": [
       "<Figure size 432x288 with 1 Axes>"
      ]
     },
     "metadata": {
      "needs_background": "light"
     },
     "output_type": "display_data"
    }
   ],
   "source": [
    "plt.plot(history_ftx.history['accuracy'])\n",
    "plt.plot(history_ftx.history['val_accuracy'])\n",
    "plt.ylabel('Accuracy')\n",
    "plt.title('LSTM with Fastext embedding')\n",
    "plt.xlabel('Epoch')\n",
    "plt.legend(['Training_accuracy', 'validation_accuracy'], loc='upper left');"
   ]
  },
  {
   "cell_type": "code",
   "execution_count": 38,
   "id": "9062fb81",
   "metadata": {
    "scrolled": true
   },
   "outputs": [
    {
     "data": {
      "image/png": "[encoded data removed]",
      "text/plain": [
       "<Figure size 432x288 with 1 Axes>"
      ]
     },
     "metadata": {
      "needs_background": "light"
     },
     "output_type": "display_data"
    }
   ],
   "source": [
    "plt.plot(history_ftx.history['loss'])\n",
    "plt.plot(history_ftx.history['val_loss'])\n",
    "plt.ylabel('error')\n",
    "plt.title('LSTM with Fastext embedding')\n",
    "plt.xlabel('Epoch')\n",
    "plt.legend(['Training_loss', 'validation_loss'], loc='lower left');"
   ]
  },
  {
   "cell_type": "code",
   "execution_count": 39,
   "id": "6c37cef4",
   "metadata": {
    "scrolled": true
   },
   "outputs": [
    {
     "name": "stdout",
     "output_type": "stream",
     "text": [
      "13/13 [==============================] - 0s 25ms/step - loss: 0.6613 - accuracy: 0.6025\n",
      "Accuracy: 60.25%\n"
     ]
    }
   ],
   "source": [
    "scores = model_ftx.evaluate(X_test, y_test, verbose=1)\n",
    "print(\"Accuracy: %.2f%%\" % (scores[1] * 100))"
   ]
  },
  {
   "cell_type": "markdown",
   "id": "2b87da6c",
   "metadata": {},
   "source": [
    "### Save the model in a h5 format."
   ]
  },
  {
   "cell_type": "code",
   "execution_count": 40,
   "id": "c742b841",
   "metadata": {},
   "outputs": [],
   "source": [
    "model_ftx.save(\"model.h5\")"
   ]
  },
  {
   "cell_type": "markdown",
   "id": "907dcda3",
   "metadata": {},
   "source": [
    "### Save the tokenizer in the pickle format"
   ]
  },
  {
   "cell_type": "code",
   "execution_count": 41,
   "id": "39c5c4e6",
   "metadata": {},
   "outputs": [],
   "source": [
    "import pickle\n",
    "\n",
    "# saving\n",
    "with open('tokenizer.pickle', 'wb') as handle:\n",
    "    pickle.dump(tokenizer, handle, protocol=4)\n",
    "\n",
    "# loading\n",
    "with open('tokenizer.pickle', 'rb') as handle:\n",
    "    tokenizer = pickle.load(handle)"
   ]
  },
  {
   "cell_type": "markdown",
   "id": "0378709f",
   "metadata": {},
   "source": [
    "### Now open a folder 'model' and put both the 'model.h5' and 'tokenizer.pickle' in the model folder. "
   ]
  },
  {
   "cell_type": "markdown",
   "id": "94e3cdce",
   "metadata": {},
   "source": [
    "### Word embedding  GloVe"
   ]
  },
  {
   "cell_type": "code",
   "execution_count": 42,
   "id": "77cd09d8",
   "metadata": {},
   "outputs": [],
   "source": [
    "GLOVE_EMB = 'glove.6B.300d.txt'\n",
    "EMBEDDING_DIM = 300"
   ]
  },
  {
   "cell_type": "code",
   "execution_count": 43,
   "id": "2e83454e",
   "metadata": {
    "scrolled": true
   },
   "outputs": [
    {
     "name": "stderr",
     "output_type": "stream",
     "text": [
      "400000it [00:46, 8532.50it/s]"
     ]
    },
    {
     "name": "stdout",
     "output_type": "stream",
     "text": [
      "Found 400000 word vectors.\n"
     ]
    },
    {
     "name": "stderr",
     "output_type": "stream",
     "text": [
      "\n"
     ]
    }
   ],
   "source": [
    "embeddings_index = {}\n",
    "f = codecs.open(GLOVE_EMB, encoding='utf-8')\n",
    "for line in tqdm(f):\n",
    "  values = line.split()\n",
    "  word = value = values[0]\n",
    "  coefs = np.asarray(values[1:], dtype='float32')\n",
    "  embeddings_index[word] = coefs\n",
    "f.close()\n",
    "\n",
    "print('Found %s word vectors.' %len(embeddings_index))"
   ]
  },
  {
   "cell_type": "code",
   "execution_count": 44,
   "id": "3a362f1c",
   "metadata": {},
   "outputs": [],
   "source": [
    "embedding_matrix = np.zeros((vocabulary_size, EMBEDDING_DIM))\n",
    "for word, i in word_index.items():\n",
    "  embedding_vector = embeddings_index.get(word)\n",
    "  if embedding_vector is not None:\n",
    "    embedding_matrix[i] = embedding_vector"
   ]
  },
  {
   "cell_type": "code",
   "execution_count": 45,
   "id": "9ea005ff",
   "metadata": {
    "scrolled": true
   },
   "outputs": [
    {
     "data": {
      "text/plain": [
       "(2968, 300)"
      ]
     },
     "execution_count": 45,
     "metadata": {},
     "output_type": "execute_result"
    }
   ],
   "source": [
    "embedding_matrix.shape"
   ]
  },
  {
   "cell_type": "code",
   "execution_count": 46,
   "id": "63545fc7",
   "metadata": {},
   "outputs": [],
   "source": [
    "embedding_layer = tf.keras.layers.Embedding(vocabulary_size,\n",
    "                                          EMBEDDING_DIM,\n",
    "                                          weights=[embedding_matrix],\n",
    "                                          input_length=max_sequence_length,\n",
    "                                          trainable=False)"
   ]
  },
  {
   "cell_type": "markdown",
   "id": "2bb5fa5d",
   "metadata": {},
   "source": [
    "#### Utilize Bidirectional LSTM and GloVe embedding"
   ]
  },
  {
   "cell_type": "code",
   "execution_count": 47,
   "id": "5340bdd2",
   "metadata": {},
   "outputs": [],
   "source": [
    "inputs = tf.keras.Input(shape=(max_sequence_length,), dtype=\"int32\")\n",
    "\n",
    "x = embedding_layer(inputs)\n",
    "x = SpatialDropout1D(0.2)(x)\n",
    "\n",
    "# Bidirectional LSTM\n",
    "x = Bidirectional(LSTM(64, dropout=0.2, recurrent_dropout=0.2))(x)\n",
    "\n",
    "# Vanilla hidden layer:\n",
    "x = Dense(512, activation=\"relu\")(x)\n",
    "x = Dropout(0.5)(x)\n",
    "\n",
    "outputs = Dense(1, activation=\"sigmoid\")(x)\n",
    "\n",
    "model_glv = tf.keras.Model(inputs, outputs)"
   ]
  },
  {
   "cell_type": "code",
   "execution_count": 48,
   "id": "10011e61",
   "metadata": {},
   "outputs": [],
   "source": [
    "model_glv.compile(optimizer='adam', loss='binary_crossentropy', metrics=['accuracy'])"
   ]
  },
  {
   "cell_type": "code",
   "execution_count": 49,
   "id": "90ee7603",
   "metadata": {
    "scrolled": true
   },
   "outputs": [
    {
     "name": "stdout",
     "output_type": "stream",
     "text": [
      "Epoch 1/6\n",
      "5/5 [==============================] - 8s 485ms/step - loss: 0.6933 - accuracy: 0.4908 - val_loss: 0.6900 - val_accuracy: 0.5425 - lr: 0.0010\n",
      "Epoch 2/6\n",
      "5/5 [==============================] - 2s 363ms/step - loss: 0.6845 - accuracy: 0.5850 - val_loss: 0.6844 - val_accuracy: 0.5850 - lr: 0.0010\n",
      "Epoch 3/6\n",
      "5/5 [==============================] - 2s 363ms/step - loss: 0.6768 - accuracy: 0.6192 - val_loss: 0.6745 - val_accuracy: 0.5925 - lr: 0.0010\n",
      "Epoch 4/6\n",
      "5/5 [==============================] - 2s 374ms/step - loss: 0.6474 - accuracy: 0.6533 - val_loss: 0.6621 - val_accuracy: 0.5925 - lr: 0.0010\n",
      "Epoch 5/6\n",
      "5/5 [==============================] - 2s 369ms/step - loss: 0.6158 - accuracy: 0.6542 - val_loss: 0.7070 - val_accuracy: 0.5900 - lr: 0.0010\n",
      "Epoch 6/6\n",
      "5/5 [==============================] - 2s 369ms/step - loss: 0.5958 - accuracy: 0.6675 - val_loss: 0.6517 - val_accuracy: 0.6175 - lr: 0.0010\n"
     ]
    }
   ],
   "source": [
    "history_glv = model_glv.fit(X_train, y_train, batch_size=batch_size, epochs=epoch,\n",
    "                    validation_data=(X_test, y_test), callbacks= [es, reduce_lr])"
   ]
  },
  {
   "cell_type": "markdown",
   "id": "edf8d5a1",
   "metadata": {},
   "source": [
    "#### Plot the learning curves for the accuracy and the loss"
   ]
  },
  {
   "cell_type": "code",
   "execution_count": 50,
   "id": "523cb783",
   "metadata": {
    "scrolled": true
   },
   "outputs": [
    {
     "data": {
      "image/png": "[encoded data removed]",
      "text/plain": [
       "<Figure size 432x288 with 1 Axes>"
      ]
     },
     "metadata": {
      "needs_background": "light"
     },
     "output_type": "display_data"
    }
   ],
   "source": [
    "plt.plot(history_glv.history['accuracy'])\n",
    "plt.plot(history_glv.history['val_accuracy'])\n",
    "plt.ylabel('Accuracy')\n",
    "plt.title('LSTM with GloVe embedding')\n",
    "plt.xlabel('Epoch')\n",
    "plt.legend(['Training_accuracy', 'validation_accuracy'], loc='upper left');"
   ]
  },
  {
   "cell_type": "code",
   "execution_count": 51,
   "id": "c587c36f",
   "metadata": {
    "scrolled": true
   },
   "outputs": [
    {
     "data": {
      "image/png": "[encoded data removed]",
      "text/plain": [
       "<Figure size 432x288 with 1 Axes>"
      ]
     },
     "metadata": {
      "needs_background": "light"
     },
     "output_type": "display_data"
    }
   ],
   "source": [
    "plt.plot(history_glv.history['loss'])\n",
    "plt.plot(history_glv.history['val_loss'])\n",
    "plt.ylabel('error')\n",
    "plt.title('LSTM with GloVe embedding')\n",
    "plt.xlabel('Epoch')\n",
    "plt.legend(['Training_loss', 'validation_loss'], loc='lower left');"
   ]
  },
  {
   "cell_type": "code",
   "execution_count": 52,
   "id": "a2f84e41",
   "metadata": {
    "scrolled": true
   },
   "outputs": [
    {
     "name": "stdout",
     "output_type": "stream",
     "text": [
      "13/13 [==============================] - 0s 21ms/step - loss: 0.6517 - accuracy: 0.6175\n",
      "Accuracy: 61.75%\n"
     ]
    }
   ],
   "source": [
    "scores = model_glv.evaluate(X_test, y_test, verbose=1)\n",
    "print(\"Accuracy: %.2f%%\" % (scores[1] * 100))"
   ]
  },
  {
   "cell_type": "markdown",
   "id": "3f94f678",
   "metadata": {},
   "source": [
    "**So the best accuracy is obtained by the Bi-LSTM GloVe model in comparison to Bi-LSTM fastText.**\n",
    "\n",
    "***Now we try to deploy the fastText model in Microsoft Azure***"
   ]
  },
  {
   "cell_type": "markdown",
   "id": "1aac4f5e",
   "metadata": {},
   "source": [
    "### In following section, we see how a LSTM Model from Scratch perform on the same dataset****"
   ]
  },
  {
   "cell_type": "code",
   "execution_count": 53,
   "id": "5fe83589",
   "metadata": {},
   "outputs": [],
   "source": [
    "vocab=tokenizer.index_word"
   ]
  },
  {
   "cell_type": "code",
   "execution_count": 54,
   "id": "8aafb6bb",
   "metadata": {
    "scrolled": true
   },
   "outputs": [
    {
     "data": {
      "text/plain": [
       "2968"
      ]
     },
     "execution_count": 54,
     "metadata": {},
     "output_type": "execute_result"
    }
   ],
   "source": [
    "vocab_size=len(tokenizer.index_word)+1\n",
    "vocab_size"
   ]
  },
  {
   "cell_type": "code",
   "execution_count": 55,
   "id": "7ed9cc1d",
   "metadata": {},
   "outputs": [],
   "source": [
    "es=EarlyStopping(monitor='val_loss', min_delta=0, mode='min', verbose=1, patience=5)\n",
    "\n",
    "reduce_lr = ReduceLROnPlateau(factor=0.1, min_delta=0, min_lr = 0.01, monitor = 'val_loss', verbose = 1)"
   ]
  },
  {
   "cell_type": "code",
   "execution_count": 56,
   "id": "9df31a57",
   "metadata": {},
   "outputs": [],
   "source": [
    "X_train, X_test, y_train, y_test = train_test_split(X, y, test_size=0.25, random_state=42)"
   ]
  },
  {
   "cell_type": "markdown",
   "id": "7c99c214",
   "metadata": {},
   "source": [
    "**LSTM model** "
   ]
  },
  {
   "cell_type": "code",
   "execution_count": 57,
   "id": "2d355803",
   "metadata": {},
   "outputs": [],
   "source": [
    "embedding_dim = 100\n",
    "\n",
    "model3 = Sequential()\n",
    "model3.add(Embedding(vocab_size, embedding_dim,input_length = max_sequence_length))\n",
    "model3.add(SpatialDropout1D(0.2))\n",
    "model3.add(LSTM(64, dropout=0.2, recurrent_dropout=0.2))\n",
    "model3.add(Dense(1, activation='sigmoid'))"
   ]
  },
  {
   "cell_type": "code",
   "execution_count": 58,
   "id": "59e27f71",
   "metadata": {},
   "outputs": [],
   "source": [
    "model3.compile(optimizer='adam', loss='binary_crossentropy', metrics=['accuracy'])"
   ]
  },
  {
   "cell_type": "code",
   "execution_count": 59,
   "id": "616a7f80",
   "metadata": {
    "scrolled": false
   },
   "outputs": [
    {
     "name": "stdout",
     "output_type": "stream",
     "text": [
      "Model: \"sequential\"\n",
      "_________________________________________________________________\n",
      " Layer (type)                Output Shape              Param #   \n",
      "=================================================================\n",
      " embedding_2 (Embedding)     (None, 30, 100)           296800    \n",
      "                                                                 \n",
      " spatial_dropout1d_2 (Spatia  (None, 30, 100)          0         \n",
      " lDropout1D)                                                     \n",
      "                                                                 \n",
      " lstm_2 (LSTM)               (None, 64)                42240     \n",
      "                                                                 \n",
      " dense_4 (Dense)             (None, 1)                 65        \n",
      "                                                                 \n",
      "=================================================================\n",
      "Total params: 339,105\n",
      "Trainable params: 339,105\n",
      "Non-trainable params: 0\n",
      "_________________________________________________________________\n"
     ]
    }
   ],
   "source": [
    "model3.summary()"
   ]
  },
  {
   "cell_type": "code",
   "execution_count": 60,
   "id": "b148e5e5",
   "metadata": {
    "scrolled": true
   },
   "outputs": [
    {
     "name": "stdout",
     "output_type": "stream",
     "text": [
      "Epoch 1/6\n",
      "38/38 [==============================] - 5s 54ms/step - loss: 0.6951 - accuracy: 0.4725 - val_loss: 0.6929 - val_accuracy: 0.5150 - lr: 0.0010\n",
      "Epoch 2/6\n",
      "38/38 [==============================] - 2s 47ms/step - loss: 0.6934 - accuracy: 0.5092 - val_loss: 0.6938 - val_accuracy: 0.4850 - lr: 0.0010\n",
      "Epoch 3/6\n",
      "38/38 [==============================] - 2s 45ms/step - loss: 0.6933 - accuracy: 0.5158 - val_loss: 0.6927 - val_accuracy: 0.5150 - lr: 0.0010\n",
      "Epoch 4/6\n",
      "38/38 [==============================] - 2s 45ms/step - loss: 0.6930 - accuracy: 0.5183 - val_loss: 0.6888 - val_accuracy: 0.6575 - lr: 0.0010\n",
      "Epoch 5/6\n",
      "38/38 [==============================] - 2s 45ms/step - loss: 0.5225 - accuracy: 0.8000 - val_loss: 0.6778 - val_accuracy: 0.6325 - lr: 0.0010\n",
      "Epoch 6/6\n",
      "38/38 [==============================] - 2s 45ms/step - loss: 0.3747 - accuracy: 0.8783 - val_loss: 0.9122 - val_accuracy: 0.6250 - lr: 0.0010\n"
     ]
    }
   ],
   "source": [
    "history=model3.fit(X_train, y_train, epochs=6, validation_data=(X_test, y_test), callbacks= [es, reduce_lr])"
   ]
  },
  {
   "cell_type": "code",
   "execution_count": 61,
   "id": "ac3ca053",
   "metadata": {
    "scrolled": true
   },
   "outputs": [
    {
     "data": {
      "image/png": "[encoded data removed]",
      "text/plain": [
       "<Figure size 432x288 with 1 Axes>"
      ]
     },
     "metadata": {
      "needs_background": "light"
     },
     "output_type": "display_data"
    }
   ],
   "source": [
    "plt.plot(history.history['loss'])\n",
    "plt.plot(history.history['val_loss'])\n",
    "plt.ylabel('error')\n",
    "plt.title('LSTM')\n",
    "plt.xlabel('Epoch')\n",
    "plt.legend(['Training_loss', 'validation_loss'], loc='lower left');"
   ]
  },
  {
   "cell_type": "code",
   "execution_count": 62,
   "id": "993b4858",
   "metadata": {
    "scrolled": false
   },
   "outputs": [
    {
     "name": "stdout",
     "output_type": "stream",
     "text": [
      "13/13 [==============================] - 0s 7ms/step - loss: 0.9122 - accuracy: 0.6250\n",
      "Accuracy: 62.50%\n"
     ]
    }
   ],
   "source": [
    "scores = model3.evaluate(X_test, y_test, verbose=1)\n",
    "print(\"Accuracy: %.2f%%\" % (scores[1] * 100))"
   ]
  },
  {
   "cell_type": "code",
   "execution_count": null,
   "id": "997b89b8",
   "metadata": {},
   "outputs": [],
   "source": []
  }
 ],
 "metadata": {
  "kernelspec": {
   "display_name": "Python 3 (ipykernel)",
   "language": "python",
   "name": "python3"
  },
  "language_info": {
   "codemirror_mode": {
    "name": "ipython",
    "version": 3
   },
   "file_extension": ".py",
   "mimetype": "text/x-python",
   "name": "python",
   "nbconvert_exporter": "python",
   "pygments_lexer": "ipython3",
   "version": "3.8.1"
  }
 },
 "nbformat": 4,
 "nbformat_minor": 5
}
